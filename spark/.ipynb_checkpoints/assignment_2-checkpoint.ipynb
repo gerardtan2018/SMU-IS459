{
 "cells": [
  {
   "cell_type": "code",
   "execution_count": 49,
   "id": "ba81bb9f",
   "metadata": {},
   "outputs": [],
   "source": [
    "import pyspark\n",
    "from pyspark.sql import SparkSession\n",
    "from pyspark.sql.functions import monotonically_increasing_id\n",
    "from pyspark.sql import functions as F\n",
    "from graphframes import *"
   ]
  },
  {
   "cell_type": "code",
   "execution_count": 2,
   "id": "3ccf294c",
   "metadata": {},
   "outputs": [
    {
     "name": "stderr",
     "output_type": "stream",
     "text": [
      "2021-09-15 17:11:36,490 WARN util.Utils: Your hostname, MSI resolves to a loopback address: 127.0.1.1; using 172.22.141.61 instead (on interface eth0)\n",
      "2021-09-15 17:11:36,492 WARN util.Utils: Set SPARK_LOCAL_IP if you need to bind to another address\n",
      "2021-09-15 17:11:37,918 WARN util.NativeCodeLoader: Unable to load native-hadoop library for your platform... using builtin-java classes where applicable\n",
      "Setting default log level to \"WARN\".\n",
      "To adjust logging level use sc.setLogLevel(newLevel). For SparkR, use setLogLevel(newLevel).\n"
     ]
    }
   ],
   "source": [
    "spark = SparkSession.builder.appName('sg.edu.smu.is459.assignment2').getOrCreate()"
   ]
  },
  {
   "cell_type": "code",
   "execution_count": 309,
   "id": "09f7b886",
   "metadata": {},
   "outputs": [],
   "source": [
    "# Load data\n",
    "posts_df = spark.read.load('/gerard_tan/spark/hardwarezone.parquet')\n",
    "\n",
    "# Clean the dataframe by removing rows with any null value\n",
    "# posts_df = posts_df.na.drop()"
   ]
  },
  {
   "cell_type": "code",
   "execution_count": 311,
   "id": "85a17a24",
   "metadata": {
    "scrolled": true
   },
   "outputs": [
    {
     "name": "stdout",
     "output_type": "stream",
     "text": [
      "Author number :4674\n"
     ]
    }
   ],
   "source": [
    "# Find distinct users\n",
    "#distinct_author = spark.sql(\"SELECT DISTINCT author FROM posts\")\n",
    "author_df = posts_df.select('author').distinct()\n",
    "\n",
    "print('Author number :' + str(author_df.count()))\n"
   ]
  },
  {
   "cell_type": "code",
   "execution_count": 312,
   "id": "c787b354",
   "metadata": {
    "collapsed": true
   },
   "outputs": [
    {
     "name": "stdout",
     "output_type": "stream",
     "text": [
      "+-------------+---+\n",
      "|       author| id|\n",
      "+-------------+---+\n",
      "|   FreshMaker|  0|\n",
      "|  deathdealer|  1|\n",
      "|xArchangelSGE|  2|\n",
      "|       vaxvms|  3|\n",
      "|    r0t1prata|  4|\n",
      "|      plasmic|  5|\n",
      "|       Rellit|  6|\n",
      "|     VeryFree|  7|\n",
      "|       limboz|  8|\n",
      "|  moisuperman|  9|\n",
      "|     kimoasis| 10|\n",
      "|       reno77| 11|\n",
      "|      taker42| 12|\n",
      "|TheSacredSoul| 13|\n",
      "|  silent_espy| 14|\n",
      "|       Expert| 15|\n",
      "|       jt2901| 16|\n",
      "|      amekago| 17|\n",
      "| Rothschild12| 18|\n",
      "|       Fr3ziX| 19|\n",
      "+-------------+---+\n",
      "only showing top 20 rows\n",
      "\n"
     ]
    }
   ],
   "source": [
    "# Assign ID to the users\n",
    "author_id = author_df.withColumn('id', monotonically_increasing_id())\n",
    "author_id.show()"
   ]
  },
  {
   "cell_type": "code",
   "execution_count": 313,
   "id": "d71183eb",
   "metadata": {
    "scrolled": true
   },
   "outputs": [
    {
     "name": "stderr",
     "output_type": "stream",
     "text": [
      "[Stage 1847:============================================>           (4 + 1) / 5]\r"
     ]
    },
    {
     "name": "stdout",
     "output_type": "stream",
     "text": [
      "Number of edges with duplicate : 1515450\n"
     ]
    },
    {
     "name": "stderr",
     "output_type": "stream",
     "text": [
      "\r",
      "                                                                                \r"
     ]
    }
   ],
   "source": [
    "# Construct connection between post and author\n",
    "left_df = posts_df.select('topic', 'author') \\\n",
    "    .withColumnRenamed(\"topic\",\"ltopic\") \\\n",
    "    .withColumnRenamed(\"author\",\"src_author\")\n",
    "\n",
    "right_df =  left_df.withColumnRenamed('ltopic', 'rtopic') \\\n",
    "    .withColumnRenamed('src_author', 'dst_author')\n",
    "\n",
    "#  Self join on topic to build connection between authors\n",
    "author_to_author = left_df. \\\n",
    "    join(right_df, left_df.ltopic == right_df.rtopic) \\\n",
    "    .select(left_df.src_author, right_df.dst_author) \\\n",
    "    .distinct()\n",
    "edge_num = author_to_author.count()\n",
    "print('Number of edges with duplicate : ' + str(edge_num))"
   ]
  },
  {
   "cell_type": "code",
   "execution_count": 314,
   "id": "de6106a7",
   "metadata": {},
   "outputs": [
    {
     "data": {
      "text/plain": [
       "DataFrame[src: bigint, dst: bigint]"
      ]
     },
     "execution_count": 314,
     "metadata": {},
     "output_type": "execute_result"
    }
   ],
   "source": [
    "# Convert it into ids\n",
    "id_to_author = author_to_author \\\n",
    "    .join(author_id, author_to_author.src_author == author_id.author) \\\n",
    "    .select(author_to_author.dst_author, author_id.id) \\\n",
    "    .withColumnRenamed('id','src')\n",
    "\n",
    "id_to_id = id_to_author \\\n",
    "    .join(author_id, id_to_author.dst_author == author_id.author) \\\n",
    "    .select(id_to_author.src, author_id.id) \\\n",
    "    .withColumnRenamed('id', 'dst')\n",
    "\n",
    "id_to_id = id_to_id.filter(id_to_id.src >= id_to_id.dst).distinct()\n",
    "\n",
    "id_to_id.cache()"
   ]
  },
  {
   "cell_type": "code",
   "execution_count": 315,
   "id": "f2d74449",
   "metadata": {},
   "outputs": [
    {
     "name": "stderr",
     "output_type": "stream",
     "text": [
      "[Stage 1855:================================================>   (186 + 8) / 200]\r"
     ]
    },
    {
     "name": "stdout",
     "output_type": "stream",
     "text": [
      "Number of edges without duplciate :760062\n"
     ]
    },
    {
     "name": "stderr",
     "output_type": "stream",
     "text": [
      "\r",
      "                                                                                \r"
     ]
    }
   ],
   "source": [
    "print(\"Number of edges without duplciate :\" + str(id_to_id.count()))"
   ]
  },
  {
   "cell_type": "code",
   "execution_count": 316,
   "id": "96af2d48",
   "metadata": {},
   "outputs": [],
   "source": [
    "# Build graph with RDDs\n",
    "graph = GraphFrame(author_id, id_to_id)"
   ]
  },
  {
   "cell_type": "code",
   "execution_count": 317,
   "id": "fe99c42a",
   "metadata": {},
   "outputs": [],
   "source": [
    "# For complex graph queries, e.g., connected components, you need to set\n",
    "# the checkopoint directory on HDFS, so Spark can handle failures.\n",
    "# Remember to change to a valid directory in your HDFS\n",
    "spark.sparkContext.setCheckpointDir('/gerard_tan/spark/spark-checkpoint')"
   ]
  },
  {
   "cell_type": "markdown",
   "id": "2f217f0a",
   "metadata": {},
   "source": [
    "## My Part"
   ]
  },
  {
   "cell_type": "markdown",
   "id": "43e8e027",
   "metadata": {},
   "source": [
    "### How large are the communities (connected components)?"
   ]
  },
  {
   "cell_type": "code",
   "execution_count": 318,
   "id": "a2b98485",
   "metadata": {},
   "outputs": [
    {
     "name": "stderr",
     "output_type": "stream",
     "text": [
      "2021-09-17 16:39:59,882 WARN hadoop.MemoryManager: Total allocation exceeds 95.00% (906,992,014 bytes) of heap memory\n",
      "Scaling row group sizes to 96.54% for 7 writers\n",
      "2021-09-17 16:39:59,883 WARN hadoop.MemoryManager: Total allocation exceeds 95.00% (906,992,014 bytes) of heap memory\n",
      "Scaling row group sizes to 84.47% for 8 writers\n",
      "2021-09-17 16:39:59,901 WARN hadoop.MemoryManager: Total allocation exceeds 95.00% (906,992,014 bytes) of heap memory\n",
      "Scaling row group sizes to 96.54% for 7 writers\n",
      "2021-09-17 16:39:59,936 WARN hadoop.MemoryManager: Total allocation exceeds 95.00% (906,992,014 bytes) of heap memory\n",
      "Scaling row group sizes to 96.54% for 7 writers\n",
      "2021-09-17 16:39:59,938 WARN hadoop.MemoryManager: Total allocation exceeds 95.00% (906,992,014 bytes) of heap memory\n",
      "Scaling row group sizes to 84.47% for 8 writers\n",
      "2021-09-17 16:40:00,301 WARN hadoop.MemoryManager: Total allocation exceeds 95.00% (906,992,014 bytes) of heap memory\n",
      "Scaling row group sizes to 96.54% for 7 writers\n",
      "2021-09-17 16:40:00,322 WARN hadoop.MemoryManager: Total allocation exceeds 95.00% (906,992,014 bytes) of heap memory\n",
      "Scaling row group sizes to 84.47% for 8 writers\n",
      "2021-09-17 16:40:00,333 WARN hadoop.MemoryManager: Total allocation exceeds 95.00% (906,992,014 bytes) of heap memory\n",
      "Scaling row group sizes to 96.54% for 7 writers\n",
      "2021-09-17 16:40:00,498 WARN hadoop.MemoryManager: Total allocation exceeds 95.00% (906,992,014 bytes) of heap memory\n",
      "Scaling row group sizes to 96.54% for 7 writers\n",
      "2021-09-17 16:40:00,499 WARN hadoop.MemoryManager: Total allocation exceeds 95.00% (906,992,014 bytes) of heap memory\n",
      "Scaling row group sizes to 84.47% for 8 writers\n",
      "2021-09-17 16:40:00,547 WARN hadoop.MemoryManager: Total allocation exceeds 95.00% (906,992,014 bytes) of heap memory\n",
      "Scaling row group sizes to 96.54% for 7 writers\n",
      "2021-09-17 16:40:00,578 WARN hadoop.MemoryManager: Total allocation exceeds 95.00% (906,992,014 bytes) of heap memory\n",
      "Scaling row group sizes to 96.54% for 7 writers\n",
      "2021-09-17 16:40:00,614 WARN hadoop.MemoryManager: Total allocation exceeds 95.00% (906,992,014 bytes) of heap memory\n",
      "Scaling row group sizes to 96.54% for 7 writers\n",
      "2021-09-17 16:40:00,706 WARN hadoop.MemoryManager: Total allocation exceeds 95.00% (906,992,014 bytes) of heap memory\n",
      "Scaling row group sizes to 96.54% for 7 writers\n",
      "2021-09-17 16:40:00,706 WARN hadoop.MemoryManager: Total allocation exceeds 95.00% (906,992,014 bytes) of heap memory\n",
      "Scaling row group sizes to 84.47% for 8 writers\n",
      "2021-09-17 16:40:00,714 WARN hadoop.MemoryManager: Total allocation exceeds 95.00% (906,992,014 bytes) of heap memory\n",
      "Scaling row group sizes to 96.54% for 7 writers\n",
      "2021-09-17 16:40:00,742 WARN hadoop.MemoryManager: Total allocation exceeds 95.00% (906,992,014 bytes) of heap memory\n",
      "Scaling row group sizes to 96.54% for 7 writers\n",
      "2021-09-17 16:40:00,742 WARN hadoop.MemoryManager: Total allocation exceeds 95.00% (906,992,014 bytes) of heap memory\n",
      "Scaling row group sizes to 84.47% for 8 writers\n",
      "2021-09-17 16:40:00,748 WARN hadoop.MemoryManager: Total allocation exceeds 95.00% (906,992,014 bytes) of heap memory\n",
      "Scaling row group sizes to 96.54% for 7 writers\n",
      "2021-09-17 16:40:00,781 WARN hadoop.MemoryManager: Total allocation exceeds 95.00% (906,992,014 bytes) of heap memory\n",
      "Scaling row group sizes to 96.54% for 7 writers\n",
      "2021-09-17 16:40:00,782 WARN hadoop.MemoryManager: Total allocation exceeds 95.00% (906,992,014 bytes) of heap memory\n",
      "Scaling row group sizes to 84.47% for 8 writers\n",
      "2021-09-17 16:40:00,788 WARN hadoop.MemoryManager: Total allocation exceeds 95.00% (906,992,014 bytes) of heap memory\n",
      "Scaling row group sizes to 96.54% for 7 writers\n",
      "2021-09-17 16:40:00,820 WARN hadoop.MemoryManager: Total allocation exceeds 95.00% (906,992,014 bytes) of heap memory\n",
      "Scaling row group sizes to 96.54% for 7 writers\n",
      "2021-09-17 16:40:00,821 WARN hadoop.MemoryManager: Total allocation exceeds 95.00% (906,992,014 bytes) of heap memory\n",
      "Scaling row group sizes to 84.47% for 8 writers\n",
      "2021-09-17 16:40:00,822 WARN hadoop.MemoryManager: Total allocation exceeds 95.00% (906,992,014 bytes) of heap memory\n",
      "Scaling row group sizes to 96.54% for 7 writers\n",
      "2021-09-17 16:40:00,852 WARN hadoop.MemoryManager: Total allocation exceeds 95.00% (906,992,014 bytes) of heap memory\n",
      "Scaling row group sizes to 96.54% for 7 writers\n",
      "2021-09-17 16:40:00,856 WARN hadoop.MemoryManager: Total allocation exceeds 95.00% (906,992,014 bytes) of heap memory\n",
      "Scaling row group sizes to 96.54% for 7 writers\n",
      "2021-09-17 16:40:01,072 WARN hadoop.MemoryManager: Total allocation exceeds 95.00% (906,992,014 bytes) of heap memory\n",
      "Scaling row group sizes to 96.54% for 7 writers\n",
      "2021-09-17 16:40:01,117 WARN hadoop.MemoryManager: Total allocation exceeds 95.00% (906,992,014 bytes) of heap memory\n",
      "Scaling row group sizes to 96.54% for 7 writers\n",
      "2021-09-17 16:40:01,149 WARN hadoop.MemoryManager: Total allocation exceeds 95.00% (906,992,014 bytes) of heap memory\n",
      "Scaling row group sizes to 96.54% for 7 writers\n",
      "2021-09-17 16:40:01,208 WARN hadoop.MemoryManager: Total allocation exceeds 95.00% (906,992,014 bytes) of heap memory\n",
      "Scaling row group sizes to 96.54% for 7 writers\n",
      "2021-09-17 16:40:01,237 WARN hadoop.MemoryManager: Total allocation exceeds 95.00% (906,992,014 bytes) of heap memory\n",
      "Scaling row group sizes to 96.54% for 7 writers\n",
      "2021-09-17 16:40:01,246 WARN hadoop.MemoryManager: Total allocation exceeds 95.00% (906,992,014 bytes) of heap memory\n",
      "Scaling row group sizes to 84.47% for 8 writers\n",
      "2021-09-17 16:40:01,249 WARN hadoop.MemoryManager: Total allocation exceeds 95.00% (906,992,014 bytes) of heap memory\n",
      "Scaling row group sizes to 96.54% for 7 writers\n",
      "2021-09-17 16:40:01,267 WARN hadoop.MemoryManager: Total allocation exceeds 95.00% (906,992,014 bytes) of heap memory\n",
      "Scaling row group sizes to 96.54% for 7 writers\n",
      "2021-09-17 16:40:01,274 WARN hadoop.MemoryManager: Total allocation exceeds 95.00% (906,992,014 bytes) of heap memory\n",
      "Scaling row group sizes to 84.47% for 8 writers\n",
      "2021-09-17 16:40:01,277 WARN hadoop.MemoryManager: Total allocation exceeds 95.00% (906,992,014 bytes) of heap memory\n",
      "Scaling row group sizes to 96.54% for 7 writers\n",
      "2021-09-17 16:40:01,298 WARN hadoop.MemoryManager: Total allocation exceeds 95.00% (906,992,014 bytes) of heap memory\n",
      "Scaling row group sizes to 96.54% for 7 writers\n",
      "2021-09-17 16:40:01,305 WARN hadoop.MemoryManager: Total allocation exceeds 95.00% (906,992,014 bytes) of heap memory\n",
      "Scaling row group sizes to 84.47% for 8 writers\n",
      "2021-09-17 16:40:01,307 WARN hadoop.MemoryManager: Total allocation exceeds 95.00% (906,992,014 bytes) of heap memory\n",
      "Scaling row group sizes to 96.54% for 7 writers\n",
      "2021-09-17 16:40:01,326 WARN hadoop.MemoryManager: Total allocation exceeds 95.00% (906,992,014 bytes) of heap memory\n",
      "Scaling row group sizes to 96.54% for 7 writers\n",
      "2021-09-17 16:40:01,334 WARN hadoop.MemoryManager: Total allocation exceeds 95.00% (906,992,014 bytes) of heap memory\n",
      "Scaling row group sizes to 96.54% for 7 writers\n",
      "2021-09-17 16:40:01,362 WARN hadoop.MemoryManager: Total allocation exceeds 95.00% (906,992,014 bytes) of heap memory\n",
      "Scaling row group sizes to 96.54% for 7 writers\n",
      "2021-09-17 16:40:01,368 WARN hadoop.MemoryManager: Total allocation exceeds 95.00% (906,992,014 bytes) of heap memory\n",
      "Scaling row group sizes to 96.54% for 7 writers\n",
      "2021-09-17 16:40:01,393 WARN hadoop.MemoryManager: Total allocation exceeds 95.00% (906,992,014 bytes) of heap memory\n",
      "Scaling row group sizes to 96.54% for 7 writers\n",
      "2021-09-17 16:40:01,400 WARN hadoop.MemoryManager: Total allocation exceeds 95.00% (906,992,014 bytes) of heap memory\n",
      "Scaling row group sizes to 84.47% for 8 writers\n",
      "2021-09-17 16:40:01,403 WARN hadoop.MemoryManager: Total allocation exceeds 95.00% (906,992,014 bytes) of heap memory\n",
      "Scaling row group sizes to 96.54% for 7 writers\n",
      "2021-09-17 16:40:01,434 WARN hadoop.MemoryManager: Total allocation exceeds 95.00% (906,992,014 bytes) of heap memory\n",
      "Scaling row group sizes to 96.54% for 7 writers\n",
      "2021-09-17 16:40:01,436 WARN hadoop.MemoryManager: Total allocation exceeds 95.00% (906,992,014 bytes) of heap memory\n",
      "Scaling row group sizes to 84.47% for 8 writers\n",
      "2021-09-17 16:40:01,437 WARN hadoop.MemoryManager: Total allocation exceeds 95.00% (906,992,014 bytes) of heap memory\n",
      "Scaling row group sizes to 96.54% for 7 writers\n",
      "2021-09-17 16:40:01,484 WARN hadoop.MemoryManager: Total allocation exceeds 95.00% (906,992,014 bytes) of heap memory\n",
      "Scaling row group sizes to 96.54% for 7 writers\n",
      "2021-09-17 16:40:01,524 WARN hadoop.MemoryManager: Total allocation exceeds 95.00% (906,992,014 bytes) of heap memory\n",
      "Scaling row group sizes to 96.54% for 7 writers\n",
      "2021-09-17 16:40:01,584 WARN hadoop.MemoryManager: Total allocation exceeds 95.00% (906,992,014 bytes) of heap memory\n",
      "Scaling row group sizes to 96.54% for 7 writers\n"
     ]
    },
    {
     "name": "stderr",
     "output_type": "stream",
     "text": [
      "2021-09-17 16:40:01,706 WARN hadoop.MemoryManager: Total allocation exceeds 95.00% (906,992,014 bytes) of heap memory\n",
      "Scaling row group sizes to 96.54% for 7 writers\n",
      "2021-09-17 16:40:01,745 WARN hadoop.MemoryManager: Total allocation exceeds 95.00% (906,992,014 bytes) of heap memory\n",
      "Scaling row group sizes to 96.54% for 7 writers\n",
      "2021-09-17 16:40:01,775 WARN hadoop.MemoryManager: Total allocation exceeds 95.00% (906,992,014 bytes) of heap memory\n",
      "Scaling row group sizes to 96.54% for 7 writers\n",
      "2021-09-17 16:40:01,779 WARN hadoop.MemoryManager: Total allocation exceeds 95.00% (906,992,014 bytes) of heap memory\n",
      "Scaling row group sizes to 96.54% for 7 writers\n",
      "2021-09-17 16:40:01,853 WARN hadoop.MemoryManager: Total allocation exceeds 95.00% (906,992,014 bytes) of heap memory\n",
      "Scaling row group sizes to 96.54% for 7 writers\n",
      "2021-09-17 16:40:01,911 WARN hadoop.MemoryManager: Total allocation exceeds 95.00% (906,992,014 bytes) of heap memory\n",
      "Scaling row group sizes to 96.54% for 7 writers\n",
      "2021-09-17 16:40:01,946 WARN hadoop.MemoryManager: Total allocation exceeds 95.00% (906,992,014 bytes) of heap memory\n",
      "Scaling row group sizes to 96.54% for 7 writers\n",
      "2021-09-17 16:40:01,954 WARN hadoop.MemoryManager: Total allocation exceeds 95.00% (906,992,014 bytes) of heap memory\n",
      "Scaling row group sizes to 84.47% for 8 writers\n",
      "2021-09-17 16:40:01,956 WARN hadoop.MemoryManager: Total allocation exceeds 95.00% (906,992,014 bytes) of heap memory\n",
      "Scaling row group sizes to 96.54% for 7 writers\n",
      "2021-09-17 16:40:01,981 WARN hadoop.MemoryManager: Total allocation exceeds 95.00% (906,992,014 bytes) of heap memory\n",
      "Scaling row group sizes to 96.54% for 7 writers\n",
      "2021-09-17 16:40:01,991 WARN hadoop.MemoryManager: Total allocation exceeds 95.00% (906,992,014 bytes) of heap memory\n",
      "Scaling row group sizes to 96.54% for 7 writers\n",
      "2021-09-17 16:40:02,062 WARN hadoop.MemoryManager: Total allocation exceeds 95.00% (906,992,014 bytes) of heap memory\n",
      "Scaling row group sizes to 96.54% for 7 writers\n",
      "2021-09-17 16:40:02,099 WARN hadoop.MemoryManager: Total allocation exceeds 95.00% (906,992,014 bytes) of heap memory\n",
      "Scaling row group sizes to 96.54% for 7 writers\n",
      "2021-09-17 16:40:02,285 WARN hadoop.MemoryManager: Total allocation exceeds 95.00% (906,992,014 bytes) of heap memory\n",
      "Scaling row group sizes to 96.54% for 7 writers\n",
      "2021-09-17 16:40:02,316 WARN hadoop.MemoryManager: Total allocation exceeds 95.00% (906,992,014 bytes) of heap memory\n",
      "Scaling row group sizes to 96.54% for 7 writers\n",
      "                                                                                \r"
     ]
    }
   ],
   "source": [
    "# Get number of connected components\n",
    "connected_components = graph.connectedComponents()"
   ]
  },
  {
   "cell_type": "code",
   "execution_count": 320,
   "id": "1e7078f7",
   "metadata": {},
   "outputs": [
    {
     "name": "stdout",
     "output_type": "stream",
     "text": [
      "Number of Communities : 4674\n"
     ]
    }
   ],
   "source": [
    "# Get total number of communities\n",
    "num_communities = connected_components.count()\n",
    "print(\"Number of Communities : \" + str(num_communities))"
   ]
  },
  {
   "cell_type": "code",
   "execution_count": 321,
   "id": "abc24517",
   "metadata": {},
   "outputs": [
    {
     "name": "stdout",
     "output_type": "stream",
     "text": [
      "How large are the communities : \n",
      "+-------------+-------------+\n",
      "|    component|CommunitySize|\n",
      "+-------------+-------------+\n",
      "|            0|         4548|\n",
      "| 403726925828|            3|\n",
      "| 146028888068|            3|\n",
      "| 309237645316|            3|\n",
      "| 678604832775|            3|\n",
      "| 721554505728|            2|\n",
      "| 712964571140|            2|\n",
      "| 103079215111|            2|\n",
      "| 962072674307|            2|\n",
      "| 154618822660|            2|\n",
      "| 146028888071|            2|\n",
      "| 420906795012|            2|\n",
      "| 266287972355|            1|\n",
      "| 661424963596|            1|\n",
      "|1425929142280|            1|\n",
      "| 257698037765|            1|\n",
      "| 618475290624|            1|\n",
      "|1443109011462|            1|\n",
      "|1228360646662|            1|\n",
      "| 197568495620|            1|\n",
      "| 472446402577|            1|\n",
      "| 257698037772|            1|\n",
      "|1623497637895|            1|\n",
      "| 592705486863|            1|\n",
      "|1228360646658|            1|\n",
      "| 798863917060|            1|\n",
      "|1606317768708|            1|\n",
      "| 377957122049|            1|\n",
      "|1228360646659|            1|\n",
      "|  85899345936|            1|\n",
      "|1245540515845|            1|\n",
      "|1640677507075|            1|\n",
      "| 670014898184|            1|\n",
      "| 103079215105|            1|\n",
      "|1022202216452|            1|\n",
      "| 438086664196|            1|\n",
      "|1116691496969|            1|\n",
      "|  77309411331|            1|\n",
      "|1640677507081|            1|\n",
      "|  94489280525|            1|\n",
      "|1073741824000|            1|\n",
      "| 755914244112|            1|\n",
      "|1159641169925|            1|\n",
      "| 292057776131|            1|\n",
      "| 652835028996|            1|\n",
      "| 910533066762|            1|\n",
      "| 292057776133|            1|\n",
      "| 901943132166|            1|\n",
      "| 223338299393|            1|\n",
      "|1099511627778|            1|\n",
      "| 429496729603|            1|\n",
      "| 635655159818|            1|\n",
      "| 816043786253|            1|\n",
      "|1657857376257|            1|\n",
      "|1039382085635|            1|\n",
      "| 687194767364|            1|\n",
      "| 884763262980|            1|\n",
      "| 455266533386|            1|\n",
      "| 936302870535|            1|\n",
      "| 627065225224|            1|\n",
      "| 180388626440|            1|\n",
      "|1537598291974|            1|\n",
      "|1348619730951|            1|\n",
      "|1477468749832|            1|\n",
      "| 395136991238|            1|\n",
      "|1571958030337|            1|\n",
      "|1279900254211|            1|\n",
      "| 223338299403|            1|\n",
      "|1228360646660|            1|\n",
      "|1692217114631|            1|\n",
      "|1391569403906|            1|\n",
      "|1039382085647|            1|\n",
      "| 764504178692|            1|\n",
      "|1554778161152|            1|\n",
      "|1125281431557|            1|\n",
      "|  60129542160|            1|\n",
      "| 506806140931|            1|\n",
      "|1554778161155|            1|\n",
      "|1546188226561|            1|\n",
      "| 146028888067|            1|\n",
      "| 532575944707|            1|\n",
      "|1082331758593|            1|\n",
      "|   8589934594|            1|\n",
      "| 214748364803|            1|\n",
      "| 111669149701|            1|\n",
      "|1614907703307|            1|\n",
      "|1047972020226|            1|\n",
      "| 850403524617|            1|\n",
      "| 274877906948|            1|\n",
      "| 377957122051|            1|\n",
      "| 901943132170|            1|\n",
      "| 489626271744|            1|\n",
      "| 790273982466|            1|\n",
      "|1529008357383|            1|\n",
      "| 953482739712|            1|\n",
      "|1151051235339|            1|\n",
      "| 661424963588|            1|\n",
      "|1537598291978|            1|\n",
      "| 755914244106|            1|\n",
      "| 695784701954|            1|\n",
      "| 249108103178|            1|\n",
      "|1211180777479|            1|\n",
      "| 884763262976|            1|\n",
      "|1649267441668|            1|\n",
      "|1039382085632|            1|\n",
      "|1245540515842|            1|\n",
      "|1477468749827|            1|\n",
      "|  42949672964|            1|\n",
      "| 120259084307|            1|\n",
      "|1314259992580|            1|\n",
      "|1623497637892|            1|\n",
      "|1554778161156|            1|\n",
      "+-------------+-------------+\n",
      "\n"
     ]
    },
    {
     "data": {
      "text/plain": [
       "None"
      ]
     },
     "metadata": {},
     "output_type": "display_data"
    }
   ],
   "source": [
    "print(\"How large are the communities : \")\n",
    "connected_components_group = connected_components.groupBy([\"component\"]).agg(F.count(\"id\").alias(\"CommunitySize\"))\n",
    "display(connected_components_group.sort(F.desc(\"CommunitySize\")).show(num_communities))"
   ]
  },
  {
   "cell_type": "markdown",
   "id": "8adb37fd",
   "metadata": {},
   "source": [
    "### What are the key words of the community (frequent words)?"
   ]
  },
  {
   "cell_type": "code",
   "execution_count": 322,
   "id": "7f133a14",
   "metadata": {},
   "outputs": [],
   "source": [
    "import re\n",
    "from nltk.corpus import stopwords\n",
    "stop_words = stopwords.words('english')\n",
    "stop_words.append(\"-\") # add \"-\" as a stop word to be removed"
   ]
  },
  {
   "cell_type": "code",
   "execution_count": 323,
   "id": "82b248b0",
   "metadata": {},
   "outputs": [],
   "source": [
    "posts_renamed = posts_df.withColumnRenamed(\"author\", \"post_author\")"
   ]
  },
  {
   "cell_type": "code",
   "execution_count": 324,
   "id": "4042c591",
   "metadata": {},
   "outputs": [],
   "source": [
    "component_topic_df = (posts_renamed\n",
    "                      .join(connected_components, posts_renamed.post_author == connected_components.author, \"left\")\n",
    "                      .select(connected_components.component, posts_renamed.content)\n",
    "                      .distinct()\n",
    "                     )"
   ]
  },
  {
   "cell_type": "code",
   "execution_count": 325,
   "id": "26ca5a8a",
   "metadata": {},
   "outputs": [],
   "source": [
    "def clean_tokenize_sentence(sentence):\n",
    "    cleaned_sentence = re.sub(\"[^-9a-z ]\", \"\" , sentence.lower()).split()\n",
    "    return [w for w in cleaned_sentence if w not in stop_words]"
   ]
  },
  {
   "cell_type": "code",
   "execution_count": 326,
   "id": "03cc6719",
   "metadata": {},
   "outputs": [],
   "source": [
    "component_rdd = component_topic_df.rdd"
   ]
  },
  {
   "cell_type": "code",
   "execution_count": 327,
   "id": "55fbe24b",
   "metadata": {},
   "outputs": [],
   "source": [
    "topic_word_count = (component_rdd\n",
    "                    .map(lambda x: (x[0], clean_tokenize_sentence(x[1])))\n",
    "                    .flatMap(lambda x: map(lambda e: (x[0], e), x[1]))\n",
    "                    .map(lambda x: (x,1))\n",
    "                    .reduceByKey(lambda x, y: x+y)\n",
    "                    .map(lambda x: (x[0][0], (x[0][1], x[1])))\n",
    "                   )"
   ]
  },
  {
   "cell_type": "code",
   "execution_count": 328,
   "id": "4a9ccfae",
   "metadata": {
    "scrolled": true
   },
   "outputs": [
    {
     "name": "stderr",
     "output_type": "stream",
     "text": [
      "                                                                                \r"
     ]
    }
   ],
   "source": [
    "topic_word_count_list = (topic_word_count\n",
    "    .sortBy(lambda x: x[1][1], ascending=False)\n",
    "    .groupByKey().map(lambda x : (x[0], list(x[1]))).collect()\n",
    ")"
   ]
  },
  {
   "cell_type": "code",
   "execution_count": 364,
   "id": "4cbda5e6",
   "metadata": {
    "scrolled": true
   },
   "outputs": [],
   "source": [
    "# Retrieve the top n most frequent words in each community\n",
    "top_n = 5\n",
    "\n",
    "column_names = [\"community\"]\n",
    "for i in range(1,top_n + 1):\n",
    "    word_col = \"(keyword_\" + str(i) + \", freq_\" + str(i) + \")\"\n",
    "    column_names.append(word_col)\n",
    "\n",
    "df_rows = []\n",
    "for row in topic_word_count_list:\n",
    "    df_row = [row[0]]\n",
    "    df_row.extend([None] * top_n)\n",
    "    freq_words = row[1][:top_n]\n",
    "    df_row[1:len(freq_words)+1] = freq_words\n",
    "    df_rows.append(df_row)    \n",
    "    \n",
    "keyword_df = spark.createDataFrame(df_rows).toDF(*column_names)"
   ]
  },
  {
   "cell_type": "code",
   "execution_count": 365,
   "id": "b0f0519c",
   "metadata": {},
   "outputs": [
    {
     "name": "stdout",
     "output_type": "stream",
     "text": [
      "Key words of each community. Printing the top 5 key words, as well as how many times the word appears\n",
      "+-------------+--------------------+--------------------+-------------------+--------------------+-------------------+\n",
      "|    community| (keyword_1, freq_1)| (keyword_2, freq_2)|(keyword_3, freq_3)| (keyword_4, freq_4)|(keyword_5, freq_5)|\n",
      "+-------------+--------------------+--------------------+-------------------+--------------------+-------------------+\n",
      "|            0|          {u, 11812}|       {play, 11285}|      {game, 10967}|        {like, 9652}|        {got, 9595}|\n",
      "|1073741824000|           {mths, 3}|          {rated, 3}|           {fan, 3}|            {box, 2}|           {pwm, 2}|\n",
      "| 223338299403|         {server, 2}|        {working, 2}|          {play, 2}|      {community, 2}|       {private, 2}|\n",
      "| 214748364803|        {playing, 2}|        {closers, 2}|        {global, 2}|         {online, 2}|            {na, 1}|\n",
      "| 429496729603|         {people, 2}|        {discord, 2}|          {play, 1}|            {lai, 1}|           {sea, 1}|\n",
      "|1279900254211|         {server, 4}|              {x, 3}|          {rate, 3}|           {nest, 2}|       {discord, 2}|\n",
      "| 420906795012|              {g, 7}|          {mouse, 4}|         {right, 3}|          {using, 2}|           {gxx, 2}|\n",
      "| 850403524617|             {gb, 3}|        {samsung, 2}|             {k, 2}|           {case, 1}|            {wd, 1}|\n",
      "| 635655159818|             {gb, 2}|    {battlefield, 1}|           {hds, 1}|          {turbo, 1}|           {ram, 1}|\n",
      "| 197568495620|             {im, 1}|          {title, 1}|         {black, 1}|        {looking, 1}|           {ops, 1}|\n",
      "| 618475290624|    {closedddddd, 1}|                null|               null|                null|               null|\n",
      "| 627065225224|         {easier, 1}|        {g9sbfbf, 1}|           {bah, 1}|            {add, 1}|          {find, 1}|\n",
      "|1047972020226|            {key, 2}|           {game, 2}|        {anyone, 2}|        {playing, 1}|        {online, 1}|\n",
      "|1477468749827|         {supply, 2}|              {x, 2}|         {power, 2}|              {9, 2}|        {memory, 2}|\n",
      "| 403726925828|           {game, 4}|            {new, 4}|           {add, 3}|            {ign, 2}|           {fun, 2}|\n",
      "|1692217114631|      {community, 5}|            {gmt, 4}|        {server, 4}|        {discord, 3}|           {wow, 3}|\n",
      "|1039382085632|          {guild, 6}|          {inoob, 5}|        {server, 5}|        {discord, 4}|          {jake, 3}|\n",
      "|1477468749832|       {cheapest, 1}|          {games, 1}|          {sell, 1}|        {website, 1}|               null|\n",
      "|1039382085635|  {idndidnxisnsk, 1}|          {wrong, 1}|        {thread, 1}|                null|               null|\n",
      "| 395136991238|         {gaming, 3}|            {999, 2}|           {srp, 2}|           {acer, 2}|            {gb, 2}|\n",
      "| 180388626440|            {box, 2}|           {need, 1}|        {allows, 1}|        {account, 1}|       {premium, 1}|\n",
      "|1245540515842|        {chinese, 5}|           {game, 4}|          {help, 4}|           {work, 3}|        {upload, 3}|\n",
      "|1245540515845|           {keen, 2}|           {play, 2}|          {game, 1}|{httpstoresteampo...|      {pschiang, 1}|\n",
      "|1039382085647|              {x, 8}|           {rate, 7}|       {lineage, 6}|          {world, 6}|        {server, 5}|\n",
      "| 377957122049|         {closed, 1}|                null|               null|                null|               null|\n",
      "| 377957122051|         {please, 4}|         {kindly, 4}|      {facebook, 3}|          {notes, 3}|          {blog, 3}|\n",
      "|1022202216452|           {asia, 2}|             {hi, 2}|      {everyone, 2}|      {according, 1}|       {ranking, 1}|\n",
      "| 816043786253|           {mods, 1}|         {server, 1}|         {added, 1}|        {private, 1}|        {number, 1}|\n",
      "|1657857376257|            {ive, 4}|        {servers, 4}|         {tried, 3}|             {na, 2}|          {play, 2}|\n",
      "|1228360646658|        {monitor, 2}|         {smooth, 1}|          {easy, 1}|           {eyes, 1}|           {ips, 1}|\n",
      "|1228360646659|             {pc, 3}|           {acer, 1}|          {boot, 1}|          {using, 1}|       {monitor, 1}|\n",
      "| 154618822660|           {play, 3}|              {v, 3}|           {old, 1}|          {group, 1}|           {see, 1}|\n",
      "|1228360646660|        {windows, 2}|           {mode, 1}|            {ps, 1}|        {classic, 1}|     {helbreath, 1}|\n",
      "| 798863917060|{httpsopenspotify...|         {friend, 1}|       {created, 1}|        {podcast, 1}|     {childhood, 1}|\n",
      "|1228360646662|            {vip, 2}|        {contest, 2}|        {across, 1}|{httpswwwfacebook...|  {championship, 1}|\n",
      "|1443109011462|            {saw, 1}|        {labeled, 1}|     {andromeda, 1}|     {screenshot, 1}|         {specs, 1}|\n",
      "| 592705486863|        {shooter, 2}|          {games, 2}|          {beta, 2}|        {servers, 1}|           {key, 1}|\n",
      "| 790273982466|        {monitor, 2}|         {gaming, 2}|    {reasonable, 1}|              {9, 1}|    {definitely, 1}|\n",
      "| 146028888067|           {play, 1}|           {look, 1}|         {draco, 1}|           {wish, 1}|        {anyone, 1}|\n",
      "| 146028888068|           {side, 4}|      {connector, 3}|           {use, 2}|        {replace, 2}|           {hdd, 2}|\n",
      "|1649267441668|           {join, 2}|            {bdo, 1}|        {active, 1}|      {onslaught, 1}|          {move, 1}|\n",
      "| 146028888071|    {transaction, 3}|            {sgd, 3}|      {question, 3}|       {currency, 2}|       {charged, 2}|\n",
      "|1640677507075|       {finished, 1}|      {recommend, 1}|         {loved, 1}|          {games, 1}|       {someone, 1}|\n",
      "|1211180777479|          {trade, 5}|        {discord, 4}|          {play, 3}|         {gamers, 3}|       {friends, 3}|\n",
      "|1425929142280|           {abom, 1}|             {pm, 1}|       {looking, 1}|        {account, 1}|               null|\n",
      "|1640677507081|             {pm, 2}|        {details, 1}|        {actual, 1}|    {individuals, 1}|          {link, 1}|\n",
      "| 764504178692|         {server, 2}|{httpsdiscordggcy...|       {discuss, 2}|        {looking, 2}|       {discord, 2}|\n",
      "|1623497637892|          {squad, 2}|         {people, 1}|   {singaporean, 1}|        {replypm, 1}|       {battles, 1}|\n",
      "|1623497637895|        {playing, 2}|            {far, 1}|           {day, 1}|{httpsstoresteamp...|           {ago, 1}|\n",
      "| 111669149701|            {ms, 42}|             {9, 12}|      {wikiacom, 2}|        {maximum, 1}|      {problems, 1}|\n",
      "| 103079215105|          {kakao, 4}|          {games, 4}|         {pearl, 4}|          {abyss, 4}|      {transfer, 3}|\n",
      "| 755914244106|          {e-lue, 3}|             {sg, 2}|      {products, 2}|            {rig, 1}|         {seems, 1}|\n",
      "|1391569403906|          {parts, 1}|           {need, 1}|        {solely, 1}|           {time, 1}|          {good, 1}|\n",
      "| 962072674307|         {battle, 4}|          {world, 3}|        {heroes, 3}|           {make, 2}|           {use, 2}|\n",
      "| 532575944707|           {clan, 3}|      {singapore, 2}|      {together, 2}|       {division, 2}|       {content, 2}|\n",
      "| 120259084307|     {interested, 2}|        {playing, 2}|         {known, 1}|           {sign, 1}|         {maybe, 1}|\n",
      "|1614907703307|           {know, 1}|         {anyone, 1}|         {bless, 1}|        {mmorpgs, 1}|       {release, 1}|\n",
      "|1606317768708|         {anyone, 3}|           {meow, 1}|           {lod, 1}|             {sc, 1}|        {diablo, 1}|\n",
      "| 103079215111|             {va, 4}|          {panel, 4}|         {games, 3}|          {would, 3}|           {ips, 3}|\n",
      "| 755914244112|         {laptop, 2}|          {razer, 2}|          {wrap, 2}|            {new, 1}|     {starbucks, 1}|\n",
      "| 953482739712|      {singapore, 2}|            {get, 2}|          {much, 1}|       {purchase, 1}|      {complete, 1}|\n",
      "| 309237645316|             {gb, 6}|            {gtx, 3}|             {w, 3}|            {atx, 3}|         {build, 2}|\n",
      "|1159641169925|            {max, 8}|         {option, 7}|            {fo, 6}|         {socket, 5}|        {active, 4}|\n",
      "|  94489280525|           {game, 5}|      {community, 4}|          {dead, 4}|        {servers, 3}|          {join, 3}|\n",
      "| 721554505728|           {like, 3}|          {using, 2}|          {mobo, 2}|          {value, 2}|          {also, 2}|\n",
      "| 292057776131|        {content, 6}|            {sot, 3}|        {videos, 2}|            {exe, 2}|           {pvp, 2}|\n",
      "|  77309411331|           {play, 2}|            {mic, 2}|          {dont, 1}|        {matched, 1}|         {becos, 1}|\n",
      "| 506806140931|           {card, 1}|           {data, 1}|         {steam, 1}|             {im, 1}|          {free, 1}|\n",
      "| 292057776133|           {play, 2}|        {playing, 2}|         {gamer, 1}|       {username, 1}|        {casual, 1}|\n",
      "| 936302870535|         {heroes, 2}|           {love, 1}|        {anyone, 1}|           {play, 1}|          {game, 1}|\n",
      "|  85899345936|            {irb, 3}|             {im, 2}|           {phd, 2}|            {wow, 2}|           {wee, 2}|\n",
      "|1571958030337|          {wanna, 2}|          {start, 2}|        {anyone, 2}|           {join, 1}|        {period, 1}|\n",
      "|1151051235339|           {code, 1}|     {installing, 1}|         {bonus, 1}|       {activate, 1}|           {key, 1}|\n",
      "| 712964571140|           {idea, 2}|        {totally, 2}|         {error, 2}|           {bios, 2}|         {cause, 1}|\n",
      "| 489626271744|      {gongsters, 1}|          {using, 1}|        {posted, 1}|            {pay, 1}|          {want, 1}|\n",
      "| 274877906948|           {game, 3}|           {wifi, 3}|         {local, 2}|         {create, 2}|          {play, 2}|\n",
      "|1348619730951|           {know, 1}|         {advise, 1}|      {handling, 1}|          {never, 1}|           {etc, 1}|\n",
      "|1554778161152|      {lightsync, 4}|       {sampling, 2}|         {games, 2}|         {enable, 2}|         {using, 2}|\n",
      "| 695784701954|         {laptop, 2}|        {battery, 2}|            {hi, 1}|          {whats, 1}|   {calibrating, 1}|\n",
      "|1554778161155|        {looking, 3}|        {players, 3}|          {raid, 3}|            {dps, 2}|          {also, 2}|\n",
      "| 266287972355|    {individuals, 2}|           {game, 2}|          {time, 2}|           {find, 1}|        {behind, 1}|\n",
      "|1554778161156|          {steam, 3}|       {download, 3}|       {starhub, 2}|          {speed, 2}|       {problem, 2}|\n",
      "|1125281431557|        {perhaps, 3}|           {like, 3}|       {looking, 2}|             {us, 2}|         {youre, 2}|\n",
      "|  60129542160|         {thanks, 1}|          {knows, 1}|       {focuses, 1}|      {singapore, 1}|      {telegram, 1}|\n",
      "|1546188226561|        {players, 5}|          {group, 3}|          {asia, 3}|           {well, 3}|            {us, 3}|\n",
      "| 910533066762|       {accounts, 3}|        {renting, 2}|         {seems, 2}|       {purchase, 2}|          {game, 2}|\n",
      "|  42949672964|          {delid, 4}|             {9x, 2}|       {getting, 1}|           {load, 1}|             {9, 1}|\n",
      "| 687194767364|         {online, 1}|           {asta, 1}|       {anybody, 1}|        {playing, 1}|               null|\n",
      "| 257698037765|       {planning, 1}|         {anyone, 1}|    {collectors, 1}|        {edition, 1}|           {get, 1}|\n",
      "| 901943132166|          {think, 2}|         {latest, 1}|      {weakwhat, 1}|            {okw, 1}|        {became, 1}|\n",
      "|1116691496969|         {people, 1}|             {us, 1}|        {online, 1}|           {play, 1}|       {closers, 1}|\n",
      "| 901943132170|             {g9, 2}|              {9, 2}|          {past, 1}|       {wireless, 1}|          {love, 1}|\n",
      "| 257698037772|         {gaming, 2}|             {tv, 1}|          {form, 1}|          {small, 1}|             {k, 1}|\n",
      "|1537598291974|         {nvidia, 2}|          {order, 1}|       {quality, 1}|        {changes, 1}|         {aware, 1}|\n",
      "| 678604832775|           {time, 4}|           {like, 2}|          {need, 2}|         {gaming, 2}|        {budget, 2}|\n",
      "| 884763262976|        {company, 2}|          {atlas, 2}|       {migrate, 1}|         {server, 1}|   {recruitment, 1}|\n",
      "| 472446402577|          {black, 1}|{httpwwwgametopco...|          {pool, 1}|            {got, 1}|        {anyone, 1}|\n",
      "|1099511627778|      {singapore, 4}|   {singaporeans, 3}|            {us, 3}|            {old, 2}|       {friends, 2}|\n",
      "| 249108103178|           {fail, 1}|          {still, 1}|          {many, 1}|          {tried, 1}|          {game, 1}|\n",
      "|1537598291978|        {newbies, 1}|         {anyone, 1}|          {game, 1}|         {played, 1}|       {looking, 1}|\n",
      "| 884763262980|          {first, 2}|         {humble, 1}|       {walking, 1}|           {away, 1}|     {purchased, 1}|\n",
      "|1314259992580|         {prefer, 1}|            {pso, 1}|          {like, 1}|    {interesting, 1}|     {mechanics, 1}|\n",
      "|1529008357383|           {acer, 3}|        {display, 2}|          {asus, 2}|            {gtx, 2}|      {predator, 2}|\n",
      "| 670014898184|           {idea, 1}|             {pc, 1}|      {download, 1}|            {foc, 1}|           {tia, 1}|\n",
      "| 455266533386|        {playing, 1}|         {anyone, 1}|               null|                null|               null|\n",
      "| 661424963588|           {ssds, 9}|            {ssd, 8}|            {gb, 7}|      {transcend, 6}|         {drive, 5}|\n",
      "| 223338299393|           {game, 5}|          {wanna, 2}|           {ign, 2}|             {im, 2}|      {together, 2}|\n",
      "|1082331758593|        {playing, 1}|         {anyone, 1}|               null|                null|               null|\n",
      "|   8589934594|          {whats, 1}|           {play, 1}|          {game, 1}|          {specs, 1}|            {pc, 1}|\n",
      "| 652835028996|             {v, 40}|             {c, 40}|           {mt, 38}|           {thy, 27}|        {phong, 27}|\n",
      "| 438086664196|          {board, 2}|         {really, 2}|          {like, 1}|         {colors, 1}|          {case, 1}|\n",
      "| 661424963596|            {usa, 1}|        {ordered, 1}|       {edition, 1}|             {fe, 1}|        {anyone, 1}|\n",
      "+-------------+--------------------+--------------------+-------------------+--------------------+-------------------+\n",
      "\n"
     ]
    }
   ],
   "source": [
    "print(\"Key words of each community. Printing the top\", top_n, \"key words, as well as how many times the word appears\")\n",
    "keyword_df.show(num_communities)"
   ]
  },
  {
   "cell_type": "markdown",
   "id": "cf616369",
   "metadata": {},
   "source": [
    "### How cohesive are the communities (Average # of triangles over every user in a community)?"
   ]
  },
  {
   "cell_type": "code",
   "execution_count": 330,
   "id": "4108b0eb",
   "metadata": {},
   "outputs": [],
   "source": [
    "triangle_count_per_user = graph.triangleCount()\n",
    "connected_components_renamed = connected_components.withColumnRenamed(\"id\", \"cc_id\")"
   ]
  },
  {
   "cell_type": "code",
   "execution_count": 331,
   "id": "db7a98ae",
   "metadata": {},
   "outputs": [],
   "source": [
    "triangle_count_component = (triangle_count_per_user\n",
    "                            .join(connected_components_renamed, triangle_count_per_user.id == connected_components_renamed.cc_id)\n",
    "                           )"
   ]
  },
  {
   "cell_type": "code",
   "execution_count": 332,
   "id": "cb543c75",
   "metadata": {},
   "outputs": [],
   "source": [
    "triangle_count_avg = (triangle_count_component\n",
    "                      .groupBy(\"component\")\n",
    "                      .avg(\"count\")\n",
    "                      )"
   ]
  },
  {
   "cell_type": "code",
   "execution_count": 510,
   "id": "9e60ecf6",
   "metadata": {
    "scrolled": true
   },
   "outputs": [
    {
     "name": "stderr",
     "output_type": "stream",
     "text": [
      "2021-09-19 20:17:11,588 WARN expressions.RowBasedKeyValueBatch: Calling spill() on RowBasedKeyValueBatch. Will not spill but return 0.\n",
      "2021-09-19 20:17:11,590 WARN expressions.RowBasedKeyValueBatch: Calling spill() on RowBasedKeyValueBatch. Will not spill but return 0.\n",
      "2021-09-19 20:17:11,593 WARN expressions.RowBasedKeyValueBatch: Calling spill() on RowBasedKeyValueBatch. Will not spill but return 0.\n",
      "2021-09-19 20:17:11,597 WARN expressions.RowBasedKeyValueBatch: Calling spill() on RowBasedKeyValueBatch. Will not spill but return 0.\n",
      "2021-09-19 20:17:11,599 WARN expressions.RowBasedKeyValueBatch: Calling spill() on RowBasedKeyValueBatch. Will not spill but return 0.\n",
      "2021-09-19 20:17:11,611 WARN expressions.RowBasedKeyValueBatch: Calling spill() on RowBasedKeyValueBatch. Will not spill but return 0.\n",
      "2021-09-19 20:17:11,614 WARN expressions.RowBasedKeyValueBatch: Calling spill() on RowBasedKeyValueBatch. Will not spill but return 0.\n",
      "2021-09-19 20:17:11,624 WARN expressions.RowBasedKeyValueBatch: Calling spill() on RowBasedKeyValueBatch. Will not spill but return 0.\n",
      "2021-09-19 20:17:14,903 WARN expressions.RowBasedKeyValueBatch: Calling spill() on RowBasedKeyValueBatch. Will not spill but return 0.\n",
      "2021-09-19 20:17:14,909 WARN expressions.RowBasedKeyValueBatch: Calling spill() on RowBasedKeyValueBatch. Will not spill but return 0.\n",
      "2021-09-19 20:17:14,933 WARN expressions.RowBasedKeyValueBatch: Calling spill() on RowBasedKeyValueBatch. Will not spill but return 0.\n",
      "2021-09-19 20:17:14,977 WARN expressions.RowBasedKeyValueBatch: Calling spill() on RowBasedKeyValueBatch. Will not spill but return 0.\n",
      "2021-09-19 20:17:15,013 WARN expressions.RowBasedKeyValueBatch: Calling spill() on RowBasedKeyValueBatch. Will not spill but return 0.\n",
      "2021-09-19 20:17:15,245 WARN expressions.RowBasedKeyValueBatch: Calling spill() on RowBasedKeyValueBatch. Will not spill but return 0.\n",
      "2021-09-19 20:17:15,257 WARN expressions.RowBasedKeyValueBatch: Calling spill() on RowBasedKeyValueBatch. Will not spill but return 0.\n",
      "2021-09-19 20:17:15,260 WARN expressions.RowBasedKeyValueBatch: Calling spill() on RowBasedKeyValueBatch. Will not spill but return 0.\n",
      "2021-09-19 20:17:18,912 WARN expressions.RowBasedKeyValueBatch: Calling spill() on RowBasedKeyValueBatch. Will not spill but return 0.\n",
      "2021-09-19 20:17:18,945 WARN expressions.RowBasedKeyValueBatch: Calling spill() on RowBasedKeyValueBatch. Will not spill but return 0.\n",
      "2021-09-19 20:17:18,958 WARN expressions.RowBasedKeyValueBatch: Calling spill() on RowBasedKeyValueBatch. Will not spill but return 0.\n",
      "2021-09-19 20:17:18,958 WARN expressions.RowBasedKeyValueBatch: Calling spill() on RowBasedKeyValueBatch. Will not spill but return 0.\n",
      "2021-09-19 20:17:18,961 WARN expressions.RowBasedKeyValueBatch: Calling spill() on RowBasedKeyValueBatch. Will not spill but return 0.\n",
      "2021-09-19 20:17:19,094 WARN expressions.RowBasedKeyValueBatch: Calling spill() on RowBasedKeyValueBatch. Will not spill but return 0.\n",
      "2021-09-19 20:17:19,144 WARN expressions.RowBasedKeyValueBatch: Calling spill() on RowBasedKeyValueBatch. Will not spill but return 0.\n",
      "2021-09-19 20:17:19,177 WARN expressions.RowBasedKeyValueBatch: Calling spill() on RowBasedKeyValueBatch. Will not spill but return 0.\n",
      "2021-09-19 20:17:22,980 WARN expressions.RowBasedKeyValueBatch: Calling spill() on RowBasedKeyValueBatch. Will not spill but return 0.\n",
      "2021-09-19 20:17:22,985 WARN expressions.RowBasedKeyValueBatch: Calling spill() on RowBasedKeyValueBatch. Will not spill but return 0.\n",
      "2021-09-19 20:17:22,989 WARN expressions.RowBasedKeyValueBatch: Calling spill() on RowBasedKeyValueBatch. Will not spill but return 0.\n",
      "2021-09-19 20:17:23,003 WARN expressions.RowBasedKeyValueBatch: Calling spill() on RowBasedKeyValueBatch. Will not spill but return 0.\n",
      "2021-09-19 20:17:23,009 WARN expressions.RowBasedKeyValueBatch: Calling spill() on RowBasedKeyValueBatch. Will not spill but return 0.\n",
      "2021-09-19 20:17:23,027 WARN expressions.RowBasedKeyValueBatch: Calling spill() on RowBasedKeyValueBatch. Will not spill but return 0.\n",
      "2021-09-19 20:17:23,033 WARN expressions.RowBasedKeyValueBatch: Calling spill() on RowBasedKeyValueBatch. Will not spill but return 0.\n",
      "2021-09-19 20:17:23,147 WARN expressions.RowBasedKeyValueBatch: Calling spill() on RowBasedKeyValueBatch. Will not spill but return 0.\n",
      "2021-09-19 20:17:26,652 WARN expressions.RowBasedKeyValueBatch: Calling spill() on RowBasedKeyValueBatch. Will not spill but return 0.\n",
      "2021-09-19 20:17:26,665 WARN expressions.RowBasedKeyValueBatch: Calling spill() on RowBasedKeyValueBatch. Will not spill but return 0.\n",
      "2021-09-19 20:17:26,670 WARN expressions.RowBasedKeyValueBatch: Calling spill() on RowBasedKeyValueBatch. Will not spill but return 0.\n",
      "2021-09-19 20:17:26,698 WARN expressions.RowBasedKeyValueBatch: Calling spill() on RowBasedKeyValueBatch. Will not spill but return 0.\n",
      "2021-09-19 20:17:26,778 WARN expressions.RowBasedKeyValueBatch: Calling spill() on RowBasedKeyValueBatch. Will not spill but return 0.\n",
      "2021-09-19 20:17:26,809 WARN expressions.RowBasedKeyValueBatch: Calling spill() on RowBasedKeyValueBatch. Will not spill but return 0.\n",
      "2021-09-19 20:17:26,817 WARN expressions.RowBasedKeyValueBatch: Calling spill() on RowBasedKeyValueBatch. Will not spill but return 0.\n",
      "2021-09-19 20:17:26,961 WARN expressions.RowBasedKeyValueBatch: Calling spill() on RowBasedKeyValueBatch. Will not spill but return 0.\n",
      "2021-09-19 20:17:30,011 WARN expressions.RowBasedKeyValueBatch: Calling spill() on RowBasedKeyValueBatch. Will not spill but return 0.\n",
      "2021-09-19 20:17:30,312 WARN expressions.RowBasedKeyValueBatch: Calling spill() on RowBasedKeyValueBatch. Will not spill but return 0.\n",
      "2021-09-19 20:17:30,330 WARN expressions.RowBasedKeyValueBatch: Calling spill() on RowBasedKeyValueBatch. Will not spill but return 0.\n",
      "2021-09-19 20:17:30,336 WARN expressions.RowBasedKeyValueBatch: Calling spill() on RowBasedKeyValueBatch. Will not spill but return 0.\n",
      "2021-09-19 20:17:30,374 WARN expressions.RowBasedKeyValueBatch: Calling spill() on RowBasedKeyValueBatch. Will not spill but return 0.\n",
      "2021-09-19 20:17:30,381 WARN expressions.RowBasedKeyValueBatch: Calling spill() on RowBasedKeyValueBatch. Will not spill but return 0.\n",
      "2021-09-19 20:17:30,806 WARN expressions.RowBasedKeyValueBatch: Calling spill() on RowBasedKeyValueBatch. Will not spill but return 0.\n",
      "2021-09-19 20:17:30,806 WARN expressions.RowBasedKeyValueBatch: Calling spill() on RowBasedKeyValueBatch. Will not spill but return 0.\n",
      "2021-09-19 20:17:33,980 WARN expressions.RowBasedKeyValueBatch: Calling spill() on RowBasedKeyValueBatch. Will not spill but return 0.\n",
      "2021-09-19 20:17:33,985 WARN expressions.RowBasedKeyValueBatch: Calling spill() on RowBasedKeyValueBatch. Will not spill but return 0.\n",
      "2021-09-19 20:17:33,993 WARN expressions.RowBasedKeyValueBatch: Calling spill() on RowBasedKeyValueBatch. Will not spill but return 0.\n",
      "2021-09-19 20:17:33,998 WARN expressions.RowBasedKeyValueBatch: Calling spill() on RowBasedKeyValueBatch. Will not spill but return 0.\n",
      "2021-09-19 20:17:34,002 WARN expressions.RowBasedKeyValueBatch: Calling spill() on RowBasedKeyValueBatch. Will not spill but return 0.\n",
      "2021-09-19 20:17:34,082 WARN expressions.RowBasedKeyValueBatch: Calling spill() on RowBasedKeyValueBatch. Will not spill but return 0.\n",
      "2021-09-19 20:17:34,122 WARN expressions.RowBasedKeyValueBatch: Calling spill() on RowBasedKeyValueBatch. Will not spill but return 0.\n",
      "2021-09-19 20:17:35,630 WARN expressions.RowBasedKeyValueBatch: Calling spill() on RowBasedKeyValueBatch. Will not spill but return 0.\n",
      "2021-09-19 20:17:39,663 WARN expressions.RowBasedKeyValueBatch: Calling spill() on RowBasedKeyValueBatch. Will not spill but return 0.\n",
      "2021-09-19 20:17:39,672 WARN expressions.RowBasedKeyValueBatch: Calling spill() on RowBasedKeyValueBatch. Will not spill but return 0.\n",
      "2021-09-19 20:17:39,734 WARN expressions.RowBasedKeyValueBatch: Calling spill() on RowBasedKeyValueBatch. Will not spill but return 0.\n",
      "2021-09-19 20:17:39,867 WARN expressions.RowBasedKeyValueBatch: Calling spill() on RowBasedKeyValueBatch. Will not spill but return 0.\n",
      "2021-09-19 20:17:39,872 WARN expressions.RowBasedKeyValueBatch: Calling spill() on RowBasedKeyValueBatch. Will not spill but return 0.\n",
      "2021-09-19 20:17:39,880 WARN expressions.RowBasedKeyValueBatch: Calling spill() on RowBasedKeyValueBatch. Will not spill but return 0.\n",
      "2021-09-19 20:17:39,888 WARN expressions.RowBasedKeyValueBatch: Calling spill() on RowBasedKeyValueBatch. Will not spill but return 0.\n"
     ]
    },
    {
     "name": "stderr",
     "output_type": "stream",
     "text": [
      "2021-09-19 20:17:41,598 WARN expressions.RowBasedKeyValueBatch: Calling spill() on RowBasedKeyValueBatch. Will not spill but return 0.\n",
      "2021-09-19 20:17:43,478 WARN expressions.RowBasedKeyValueBatch: Calling spill() on RowBasedKeyValueBatch. Will not spill but return 0.\n",
      "2021-09-19 20:17:43,484 WARN expressions.RowBasedKeyValueBatch: Calling spill() on RowBasedKeyValueBatch. Will not spill but return 0.\n",
      "2021-09-19 20:17:43,511 WARN expressions.RowBasedKeyValueBatch: Calling spill() on RowBasedKeyValueBatch. Will not spill but return 0.\n",
      "2021-09-19 20:17:43,544 WARN expressions.RowBasedKeyValueBatch: Calling spill() on RowBasedKeyValueBatch. Will not spill but return 0.\n",
      "2021-09-19 20:17:43,550 WARN expressions.RowBasedKeyValueBatch: Calling spill() on RowBasedKeyValueBatch. Will not spill but return 0.\n",
      "2021-09-19 20:17:43,617 WARN expressions.RowBasedKeyValueBatch: Calling spill() on RowBasedKeyValueBatch. Will not spill but return 0.\n",
      "2021-09-19 20:17:43,711 WARN expressions.RowBasedKeyValueBatch: Calling spill() on RowBasedKeyValueBatch. Will not spill but return 0.\n",
      "2021-09-19 20:17:44,688 WARN expressions.RowBasedKeyValueBatch: Calling spill() on RowBasedKeyValueBatch. Will not spill but return 0.\n",
      "2021-09-19 20:17:46,474 WARN expressions.RowBasedKeyValueBatch: Calling spill() on RowBasedKeyValueBatch. Will not spill but return 0.\n",
      "2021-09-19 20:17:46,514 WARN expressions.RowBasedKeyValueBatch: Calling spill() on RowBasedKeyValueBatch. Will not spill but return 0.\n",
      "2021-09-19 20:17:46,593 WARN expressions.RowBasedKeyValueBatch: Calling spill() on RowBasedKeyValueBatch. Will not spill but return 0.\n",
      "2021-09-19 20:17:46,602 WARN expressions.RowBasedKeyValueBatch: Calling spill() on RowBasedKeyValueBatch. Will not spill but return 0.\n",
      "2021-09-19 20:17:46,803 WARN expressions.RowBasedKeyValueBatch: Calling spill() on RowBasedKeyValueBatch. Will not spill but return 0.\n",
      "2021-09-19 20:17:46,915 WARN expressions.RowBasedKeyValueBatch: Calling spill() on RowBasedKeyValueBatch. Will not spill but return 0.\n",
      "2021-09-19 20:17:46,931 WARN expressions.RowBasedKeyValueBatch: Calling spill() on RowBasedKeyValueBatch. Will not spill but return 0.\n",
      "2021-09-19 20:17:47,707 WARN expressions.RowBasedKeyValueBatch: Calling spill() on RowBasedKeyValueBatch. Will not spill but return 0.\n",
      "2021-09-19 20:17:49,417 WARN expressions.RowBasedKeyValueBatch: Calling spill() on RowBasedKeyValueBatch. Will not spill but return 0.\n",
      "2021-09-19 20:17:50,954 WARN expressions.RowBasedKeyValueBatch: Calling spill() on RowBasedKeyValueBatch. Will not spill but return 0.\n",
      "2021-09-19 20:17:51,013 WARN expressions.RowBasedKeyValueBatch: Calling spill() on RowBasedKeyValueBatch. Will not spill but return 0.\n",
      "2021-09-19 20:17:51,284 WARN expressions.RowBasedKeyValueBatch: Calling spill() on RowBasedKeyValueBatch. Will not spill but return 0.\n",
      "2021-09-19 20:17:51,332 WARN expressions.RowBasedKeyValueBatch: Calling spill() on RowBasedKeyValueBatch. Will not spill but return 0.\n",
      "2021-09-19 20:17:51,343 WARN expressions.RowBasedKeyValueBatch: Calling spill() on RowBasedKeyValueBatch. Will not spill but return 0.\n",
      "2021-09-19 20:17:51,406 WARN expressions.RowBasedKeyValueBatch: Calling spill() on RowBasedKeyValueBatch. Will not spill but return 0.\n",
      "2021-09-19 20:17:55,965 WARN expressions.RowBasedKeyValueBatch: Calling spill() on RowBasedKeyValueBatch. Will not spill but return 0.\n",
      "2021-09-19 20:17:57,413 WARN expressions.RowBasedKeyValueBatch: Calling spill() on RowBasedKeyValueBatch. Will not spill but return 0.\n",
      "2021-09-19 20:17:58,857 WARN expressions.RowBasedKeyValueBatch: Calling spill() on RowBasedKeyValueBatch. Will not spill but return 0.\n",
      "2021-09-19 20:18:01,245 WARN expressions.RowBasedKeyValueBatch: Calling spill() on RowBasedKeyValueBatch. Will not spill but return 0.\n",
      "2021-09-19 20:18:01,298 WARN expressions.RowBasedKeyValueBatch: Calling spill() on RowBasedKeyValueBatch. Will not spill but return 0.\n",
      "2021-09-19 20:18:03,623 WARN expressions.RowBasedKeyValueBatch: Calling spill() on RowBasedKeyValueBatch. Will not spill but return 0.\n",
      "2021-09-19 20:18:05,005 WARN expressions.RowBasedKeyValueBatch: Calling spill() on RowBasedKeyValueBatch. Will not spill but return 0.\n",
      "2021-09-19 20:18:07,099 WARN expressions.RowBasedKeyValueBatch: Calling spill() on RowBasedKeyValueBatch. Will not spill but return 0.\n",
      "2021-09-19 20:18:07,185 WARN expressions.RowBasedKeyValueBatch: Calling spill() on RowBasedKeyValueBatch. Will not spill but return 0.\n",
      "2021-09-19 20:18:08,021 WARN expressions.RowBasedKeyValueBatch: Calling spill() on RowBasedKeyValueBatch. Will not spill but return 0.\n",
      "2021-09-19 20:18:08,390 WARN expressions.RowBasedKeyValueBatch: Calling spill() on RowBasedKeyValueBatch. Will not spill but return 0.\n",
      "2021-09-19 20:18:10,366 WARN expressions.RowBasedKeyValueBatch: Calling spill() on RowBasedKeyValueBatch. Will not spill but return 0.\n",
      "2021-09-19 20:18:11,101 WARN expressions.RowBasedKeyValueBatch: Calling spill() on RowBasedKeyValueBatch. Will not spill but return 0.\n",
      "2021-09-19 20:18:11,964 WARN expressions.RowBasedKeyValueBatch: Calling spill() on RowBasedKeyValueBatch. Will not spill but return 0.\n",
      "2021-09-19 20:18:12,839 WARN expressions.RowBasedKeyValueBatch: Calling spill() on RowBasedKeyValueBatch. Will not spill but return 0.\n",
      "2021-09-19 20:18:15,122 WARN expressions.RowBasedKeyValueBatch: Calling spill() on RowBasedKeyValueBatch. Will not spill but return 0.\n",
      "2021-09-19 20:18:15,216 WARN expressions.RowBasedKeyValueBatch: Calling spill() on RowBasedKeyValueBatch. Will not spill but return 0.\n",
      "2021-09-19 20:18:15,310 WARN expressions.RowBasedKeyValueBatch: Calling spill() on RowBasedKeyValueBatch. Will not spill but return 0.\n",
      "2021-09-19 20:18:15,377 WARN expressions.RowBasedKeyValueBatch: Calling spill() on RowBasedKeyValueBatch. Will not spill but return 0.\n",
      "2021-09-19 20:18:15,467 WARN expressions.RowBasedKeyValueBatch: Calling spill() on RowBasedKeyValueBatch. Will not spill but return 0.\n",
      "2021-09-19 20:18:15,941 WARN expressions.RowBasedKeyValueBatch: Calling spill() on RowBasedKeyValueBatch. Will not spill but return 0.\n",
      "2021-09-19 20:18:16,488 WARN expressions.RowBasedKeyValueBatch: Calling spill() on RowBasedKeyValueBatch. Will not spill but return 0.\n",
      "2021-09-19 20:18:19,568 WARN expressions.RowBasedKeyValueBatch: Calling spill() on RowBasedKeyValueBatch. Will not spill but return 0.\n",
      "2021-09-19 20:18:20,055 WARN expressions.RowBasedKeyValueBatch: Calling spill() on RowBasedKeyValueBatch. Will not spill but return 0.\n",
      "2021-09-19 20:18:21,113 WARN expressions.RowBasedKeyValueBatch: Calling spill() on RowBasedKeyValueBatch. Will not spill but return 0.\n",
      "2021-09-19 20:18:21,643 WARN expressions.RowBasedKeyValueBatch: Calling spill() on RowBasedKeyValueBatch. Will not spill but return 0.\n",
      "2021-09-19 20:18:21,768 WARN expressions.RowBasedKeyValueBatch: Calling spill() on RowBasedKeyValueBatch. Will not spill but return 0.\n",
      "2021-09-19 20:18:22,683 WARN expressions.RowBasedKeyValueBatch: Calling spill() on RowBasedKeyValueBatch. Will not spill but return 0.\n",
      "2021-09-19 20:18:22,859 WARN expressions.RowBasedKeyValueBatch: Calling spill() on RowBasedKeyValueBatch. Will not spill but return 0.\n",
      "2021-09-19 20:18:25,194 WARN expressions.RowBasedKeyValueBatch: Calling spill() on RowBasedKeyValueBatch. Will not spill but return 0.\n",
      "2021-09-19 20:18:31,098 WARN expressions.RowBasedKeyValueBatch: Calling spill() on RowBasedKeyValueBatch. Will not spill but return 0.\n",
      "2021-09-19 20:18:31,156 WARN expressions.RowBasedKeyValueBatch: Calling spill() on RowBasedKeyValueBatch. Will not spill but return 0.\n",
      "2021-09-19 20:18:31,405 WARN expressions.RowBasedKeyValueBatch: Calling spill() on RowBasedKeyValueBatch. Will not spill but return 0.\n",
      "2021-09-19 20:18:31,957 WARN expressions.RowBasedKeyValueBatch: Calling spill() on RowBasedKeyValueBatch. Will not spill but return 0.\n",
      "2021-09-19 20:18:33,002 WARN expressions.RowBasedKeyValueBatch: Calling spill() on RowBasedKeyValueBatch. Will not spill but return 0.\n",
      "2021-09-19 20:18:33,190 WARN expressions.RowBasedKeyValueBatch: Calling spill() on RowBasedKeyValueBatch. Will not spill but return 0.\n",
      "2021-09-19 20:18:33,893 WARN expressions.RowBasedKeyValueBatch: Calling spill() on RowBasedKeyValueBatch. Will not spill but return 0.\n",
      "2021-09-19 20:18:33,924 WARN expressions.RowBasedKeyValueBatch: Calling spill() on RowBasedKeyValueBatch. Will not spill but return 0.\n"
     ]
    },
    {
     "name": "stderr",
     "output_type": "stream",
     "text": [
      "2021-09-19 20:18:39,860 WARN expressions.RowBasedKeyValueBatch: Calling spill() on RowBasedKeyValueBatch. Will not spill but return 0.\n",
      "2021-09-19 20:18:41,504 WARN expressions.RowBasedKeyValueBatch: Calling spill() on RowBasedKeyValueBatch. Will not spill but return 0.\n",
      "2021-09-19 20:18:41,756 WARN expressions.RowBasedKeyValueBatch: Calling spill() on RowBasedKeyValueBatch. Will not spill but return 0.\n",
      "2021-09-19 20:18:42,060 WARN expressions.RowBasedKeyValueBatch: Calling spill() on RowBasedKeyValueBatch. Will not spill but return 0.\n",
      "2021-09-19 20:18:42,119 WARN expressions.RowBasedKeyValueBatch: Calling spill() on RowBasedKeyValueBatch. Will not spill but return 0.\n",
      "2021-09-19 20:18:42,343 WARN expressions.RowBasedKeyValueBatch: Calling spill() on RowBasedKeyValueBatch. Will not spill but return 0.\n",
      "2021-09-19 20:18:42,528 WARN expressions.RowBasedKeyValueBatch: Calling spill() on RowBasedKeyValueBatch. Will not spill but return 0.\n",
      "2021-09-19 20:18:42,658 WARN expressions.RowBasedKeyValueBatch: Calling spill() on RowBasedKeyValueBatch. Will not spill but return 0.\n",
      "2021-09-19 20:18:49,504 WARN expressions.RowBasedKeyValueBatch: Calling spill() on RowBasedKeyValueBatch. Will not spill but return 0.\n",
      "2021-09-19 20:18:50,813 WARN expressions.RowBasedKeyValueBatch: Calling spill() on RowBasedKeyValueBatch. Will not spill but return 0.\n",
      "2021-09-19 20:18:52,677 WARN expressions.RowBasedKeyValueBatch: Calling spill() on RowBasedKeyValueBatch. Will not spill but return 0.\n",
      "2021-09-19 20:18:52,758 WARN expressions.RowBasedKeyValueBatch: Calling spill() on RowBasedKeyValueBatch. Will not spill but return 0.\n",
      "2021-09-19 20:18:53,908 WARN expressions.RowBasedKeyValueBatch: Calling spill() on RowBasedKeyValueBatch. Will not spill but return 0.\n",
      "2021-09-19 20:18:54,714 WARN expressions.RowBasedKeyValueBatch: Calling spill() on RowBasedKeyValueBatch. Will not spill but return 0.\n",
      "2021-09-19 20:18:55,487 WARN expressions.RowBasedKeyValueBatch: Calling spill() on RowBasedKeyValueBatch. Will not spill but return 0.\n",
      "2021-09-19 20:18:57,055 WARN expressions.RowBasedKeyValueBatch: Calling spill() on RowBasedKeyValueBatch. Will not spill but return 0.\n",
      "2021-09-19 20:18:58,086 WARN expressions.RowBasedKeyValueBatch: Calling spill() on RowBasedKeyValueBatch. Will not spill but return 0.\n",
      "2021-09-19 20:18:58,089 WARN expressions.RowBasedKeyValueBatch: Calling spill() on RowBasedKeyValueBatch. Will not spill but return 0.\n",
      "2021-09-19 20:18:58,331 WARN expressions.RowBasedKeyValueBatch: Calling spill() on RowBasedKeyValueBatch. Will not spill but return 0.\n",
      "2021-09-19 20:18:58,370 WARN expressions.RowBasedKeyValueBatch: Calling spill() on RowBasedKeyValueBatch. Will not spill but return 0.\n",
      "2021-09-19 20:18:58,547 WARN expressions.RowBasedKeyValueBatch: Calling spill() on RowBasedKeyValueBatch. Will not spill but return 0.\n",
      "2021-09-19 20:18:58,691 WARN expressions.RowBasedKeyValueBatch: Calling spill() on RowBasedKeyValueBatch. Will not spill but return 0.\n",
      "2021-09-19 20:18:59,518 WARN expressions.RowBasedKeyValueBatch: Calling spill() on RowBasedKeyValueBatch. Will not spill but return 0.\n",
      "2021-09-19 20:19:00,695 WARN expressions.RowBasedKeyValueBatch: Calling spill() on RowBasedKeyValueBatch. Will not spill but return 0.\n",
      "2021-09-19 20:19:01,662 WARN expressions.RowBasedKeyValueBatch: Calling spill() on RowBasedKeyValueBatch. Will not spill but return 0.\n",
      "2021-09-19 20:19:01,864 WARN expressions.RowBasedKeyValueBatch: Calling spill() on RowBasedKeyValueBatch. Will not spill but return 0.\n",
      "2021-09-19 20:19:02,085 WARN expressions.RowBasedKeyValueBatch: Calling spill() on RowBasedKeyValueBatch. Will not spill but return 0.\n",
      "2021-09-19 20:19:02,142 WARN expressions.RowBasedKeyValueBatch: Calling spill() on RowBasedKeyValueBatch. Will not spill but return 0.\n",
      "2021-09-19 20:19:02,424 WARN expressions.RowBasedKeyValueBatch: Calling spill() on RowBasedKeyValueBatch. Will not spill but return 0.\n",
      "2021-09-19 20:19:02,538 WARN expressions.RowBasedKeyValueBatch: Calling spill() on RowBasedKeyValueBatch. Will not spill but return 0.\n",
      "2021-09-19 20:19:16,114 WARN expressions.RowBasedKeyValueBatch: Calling spill() on RowBasedKeyValueBatch. Will not spill but return 0.\n",
      "2021-09-19 20:19:17,200 WARN expressions.RowBasedKeyValueBatch: Calling spill() on RowBasedKeyValueBatch. Will not spill but return 0.\n",
      "2021-09-19 20:19:24,137 WARN expressions.RowBasedKeyValueBatch: Calling spill() on RowBasedKeyValueBatch. Will not spill but return 0.\n",
      "2021-09-19 20:19:25,317 WARN expressions.RowBasedKeyValueBatch: Calling spill() on RowBasedKeyValueBatch. Will not spill but return 0.\n",
      "2021-09-19 20:19:27,076 WARN expressions.RowBasedKeyValueBatch: Calling spill() on RowBasedKeyValueBatch. Will not spill but return 0.\n",
      "2021-09-19 20:19:27,667 WARN expressions.RowBasedKeyValueBatch: Calling spill() on RowBasedKeyValueBatch. Will not spill but return 0.\n",
      "2021-09-19 20:19:31,063 WARN expressions.RowBasedKeyValueBatch: Calling spill() on RowBasedKeyValueBatch. Will not spill but return 0.\n",
      "2021-09-19 20:19:31,342 WARN expressions.RowBasedKeyValueBatch: Calling spill() on RowBasedKeyValueBatch. Will not spill but return 0.\n",
      "2021-09-19 20:19:34,053 WARN expressions.RowBasedKeyValueBatch: Calling spill() on RowBasedKeyValueBatch. Will not spill but return 0.\n",
      "2021-09-19 20:19:34,084 WARN expressions.RowBasedKeyValueBatch: Calling spill() on RowBasedKeyValueBatch. Will not spill but return 0.\n",
      "2021-09-19 20:19:35,862 WARN expressions.RowBasedKeyValueBatch: Calling spill() on RowBasedKeyValueBatch. Will not spill but return 0.\n",
      "2021-09-19 20:19:35,889 WARN expressions.RowBasedKeyValueBatch: Calling spill() on RowBasedKeyValueBatch. Will not spill but return 0.\n",
      "2021-09-19 20:19:36,419 WARN expressions.RowBasedKeyValueBatch: Calling spill() on RowBasedKeyValueBatch. Will not spill but return 0.\n",
      "2021-09-19 20:19:36,434 WARN expressions.RowBasedKeyValueBatch: Calling spill() on RowBasedKeyValueBatch. Will not spill but return 0.\n",
      "2021-09-19 20:19:36,550 WARN expressions.RowBasedKeyValueBatch: Calling spill() on RowBasedKeyValueBatch. Will not spill but return 0.\n",
      "2021-09-19 20:19:36,694 WARN expressions.RowBasedKeyValueBatch: Calling spill() on RowBasedKeyValueBatch. Will not spill but return 0.\n",
      "2021-09-19 20:19:42,629 WARN expressions.RowBasedKeyValueBatch: Calling spill() on RowBasedKeyValueBatch. Will not spill but return 0.\n",
      "2021-09-19 20:19:42,631 WARN expressions.RowBasedKeyValueBatch: Calling spill() on RowBasedKeyValueBatch. Will not spill but return 0.\n",
      "2021-09-19 20:19:42,636 WARN expressions.RowBasedKeyValueBatch: Calling spill() on RowBasedKeyValueBatch. Will not spill but return 0.\n",
      "2021-09-19 20:19:42,639 WARN expressions.RowBasedKeyValueBatch: Calling spill() on RowBasedKeyValueBatch. Will not spill but return 0.\n",
      "2021-09-19 20:19:42,640 WARN expressions.RowBasedKeyValueBatch: Calling spill() on RowBasedKeyValueBatch. Will not spill but return 0.\n",
      "2021-09-19 20:19:42,660 WARN expressions.RowBasedKeyValueBatch: Calling spill() on RowBasedKeyValueBatch. Will not spill but return 0.\n",
      "2021-09-19 20:19:42,686 WARN expressions.RowBasedKeyValueBatch: Calling spill() on RowBasedKeyValueBatch. Will not spill but return 0.\n",
      "2021-09-19 20:19:44,220 WARN expressions.RowBasedKeyValueBatch: Calling spill() on RowBasedKeyValueBatch. Will not spill but return 0.\n",
      "2021-09-19 20:19:48,556 WARN expressions.RowBasedKeyValueBatch: Calling spill() on RowBasedKeyValueBatch. Will not spill but return 0.\n",
      "2021-09-19 20:19:48,581 WARN expressions.RowBasedKeyValueBatch: Calling spill() on RowBasedKeyValueBatch. Will not spill but return 0.\n",
      "2021-09-19 20:19:49,502 WARN expressions.RowBasedKeyValueBatch: Calling spill() on RowBasedKeyValueBatch. Will not spill but return 0.\n",
      "2021-09-19 20:19:50,228 WARN expressions.RowBasedKeyValueBatch: Calling spill() on RowBasedKeyValueBatch. Will not spill but return 0.\n",
      "2021-09-19 20:19:50,922 WARN expressions.RowBasedKeyValueBatch: Calling spill() on RowBasedKeyValueBatch. Will not spill but return 0.\n",
      "2021-09-19 20:19:52,372 WARN expressions.RowBasedKeyValueBatch: Calling spill() on RowBasedKeyValueBatch. Will not spill but return 0.\n",
      "2021-09-19 20:19:56,685 WARN expressions.RowBasedKeyValueBatch: Calling spill() on RowBasedKeyValueBatch. Will not spill but return 0.\n"
     ]
    },
    {
     "name": "stderr",
     "output_type": "stream",
     "text": [
      "2021-09-19 20:20:05,026 WARN expressions.RowBasedKeyValueBatch: Calling spill() on RowBasedKeyValueBatch. Will not spill but return 0.\n",
      "2021-09-19 20:20:07,421 WARN expressions.RowBasedKeyValueBatch: Calling spill() on RowBasedKeyValueBatch. Will not spill but return 0.\n",
      "2021-09-19 20:20:07,897 WARN expressions.RowBasedKeyValueBatch: Calling spill() on RowBasedKeyValueBatch. Will not spill but return 0.\n",
      "2021-09-19 20:20:08,889 WARN expressions.RowBasedKeyValueBatch: Calling spill() on RowBasedKeyValueBatch. Will not spill but return 0.\n",
      "2021-09-19 20:20:09,433 WARN expressions.RowBasedKeyValueBatch: Calling spill() on RowBasedKeyValueBatch. Will not spill but return 0.\n",
      "2021-09-19 20:20:13,712 WARN expressions.RowBasedKeyValueBatch: Calling spill() on RowBasedKeyValueBatch. Will not spill but return 0.\n",
      "2021-09-19 20:20:47,256 WARN expressions.RowBasedKeyValueBatch: Calling spill() on RowBasedKeyValueBatch. Will not spill but return 0.\n",
      "2021-09-19 20:21:30,982 WARN expressions.RowBasedKeyValueBatch: Calling spill() on RowBasedKeyValueBatch. Will not spill but return 0.\n",
      "2021-09-19 20:21:30,990 WARN expressions.RowBasedKeyValueBatch: Calling spill() on RowBasedKeyValueBatch. Will not spill but return 0.\n",
      "2021-09-19 20:21:32,461 WARN expressions.RowBasedKeyValueBatch: Calling spill() on RowBasedKeyValueBatch. Will not spill but return 0.\n",
      "2021-09-19 20:21:32,463 WARN expressions.RowBasedKeyValueBatch: Calling spill() on RowBasedKeyValueBatch. Will not spill but return 0.\n",
      "2021-09-19 20:21:32,511 WARN expressions.RowBasedKeyValueBatch: Calling spill() on RowBasedKeyValueBatch. Will not spill but return 0.\n",
      "2021-09-19 20:21:36,937 WARN expressions.RowBasedKeyValueBatch: Calling spill() on RowBasedKeyValueBatch. Will not spill but return 0.\n",
      "2021-09-19 20:21:36,949 WARN expressions.RowBasedKeyValueBatch: Calling spill() on RowBasedKeyValueBatch. Will not spill but return 0.\n",
      "[Stage 4343:================================================>   (187 + 8) / 200]\r"
     ]
    },
    {
     "name": "stdout",
     "output_type": "stream",
     "text": [
      "+-------------+-----------------+\n",
      "|    component|       avg(count)|\n",
      "+-------------+-----------------+\n",
      "|            0|59009.74208443272|\n",
      "| 146028888068|              1.0|\n",
      "| 309237645316|              1.0|\n",
      "| 678604832775|              1.0|\n",
      "| 403726925828|              1.0|\n",
      "| 618475290624|              0.0|\n",
      "| 266287972355|              0.0|\n",
      "|1425929142280|              0.0|\n",
      "| 377957122049|              0.0|\n",
      "| 661424963596|              0.0|\n",
      "|1443109011462|              0.0|\n",
      "| 257698037765|              0.0|\n",
      "| 197568495620|              0.0|\n",
      "| 670014898184|              0.0|\n",
      "| 438086664196|              0.0|\n",
      "|1228360646658|              0.0|\n",
      "| 798863917060|              0.0|\n",
      "| 146028888071|              0.0|\n",
      "| 592705486863|              0.0|\n",
      "|1228360646659|              0.0|\n",
      "|1228360646662|              0.0|\n",
      "| 257698037772|              0.0|\n",
      "|1073741824000|              0.0|\n",
      "| 910533066762|              0.0|\n",
      "| 884763262980|              0.0|\n",
      "|1116691496969|              0.0|\n",
      "|  77309411331|              0.0|\n",
      "| 103079215105|              0.0|\n",
      "|1022202216452|              0.0|\n",
      "|1159641169925|              0.0|\n",
      "|1537598291974|              0.0|\n",
      "| 472446402577|              0.0|\n",
      "|1245540515845|              0.0|\n",
      "|1623497637895|              0.0|\n",
      "|1606317768708|              0.0|\n",
      "| 429496729603|              0.0|\n",
      "|1640677507075|              0.0|\n",
      "| 652835028996|              0.0|\n",
      "| 420906795012|              0.0|\n",
      "|1039382085635|              0.0|\n",
      "|1546188226561|              0.0|\n",
      "| 292057776131|              0.0|\n",
      "| 292057776133|              0.0|\n",
      "| 687194767364|              0.0|\n",
      "| 953482739712|              0.0|\n",
      "|1657857376257|              0.0|\n",
      "|  85899345936|              0.0|\n",
      "| 223338299393|              0.0|\n",
      "|1099511627778|              0.0|\n",
      "| 154618822660|              0.0|\n",
      "| 455266533386|              0.0|\n",
      "| 816043786253|              0.0|\n",
      "| 395136991238|              0.0|\n",
      "|1039382085647|              0.0|\n",
      "|1348619730951|              0.0|\n",
      "| 180388626440|              0.0|\n",
      "|  42949672964|              0.0|\n",
      "| 627065225224|              0.0|\n",
      "|1477468749832|              0.0|\n",
      "|1228360646660|              0.0|\n",
      "|1692217114631|              0.0|\n",
      "|1279900254211|              0.0|\n",
      "| 721554505728|              0.0|\n",
      "|  94489280525|              0.0|\n",
      "|1391569403906|              0.0|\n",
      "| 712964571140|              0.0|\n",
      "| 103079215111|              0.0|\n",
      "| 755914244112|              0.0|\n",
      "| 764504178692|              0.0|\n",
      "|1554778161152|              0.0|\n",
      "| 506806140931|              0.0|\n",
      "|  60129542160|              0.0|\n",
      "|1640677507081|              0.0|\n",
      "|1125281431557|              0.0|\n",
      "|1554778161155|              0.0|\n",
      "|   8589934594|              0.0|\n",
      "| 635655159818|              0.0|\n",
      "| 111669149701|              0.0|\n",
      "|1614907703307|              0.0|\n",
      "| 214748364803|              0.0|\n",
      "|1082331758593|              0.0|\n",
      "| 146028888067|              0.0|\n",
      "| 790273982466|              0.0|\n",
      "|1529008357383|              0.0|\n",
      "| 850403524617|              0.0|\n",
      "| 274877906948|              0.0|\n",
      "|1047972020226|              0.0|\n",
      "| 901943132170|              0.0|\n",
      "| 377957122051|              0.0|\n",
      "| 901943132166|              0.0|\n",
      "| 532575944707|              0.0|\n",
      "| 489626271744|              0.0|\n",
      "| 661424963588|              0.0|\n",
      "| 695784701954|              0.0|\n",
      "|1151051235339|              0.0|\n",
      "| 755914244106|              0.0|\n",
      "| 936302870535|              0.0|\n",
      "|1537598291978|              0.0|\n",
      "| 249108103178|              0.0|\n",
      "| 962072674307|              0.0|\n",
      "|1649267441668|              0.0|\n",
      "|1245540515842|              0.0|\n",
      "|1477468749827|              0.0|\n",
      "|1623497637892|              0.0|\n",
      "|1211180777479|              0.0|\n",
      "| 884763262976|              0.0|\n",
      "|1039382085632|              0.0|\n",
      "| 223338299403|              0.0|\n",
      "| 120259084307|              0.0|\n",
      "|1571958030337|              0.0|\n",
      "|1554778161156|              0.0|\n",
      "|1314259992580|              0.0|\n",
      "+-------------+-----------------+\n",
      "\n"
     ]
    },
    {
     "name": "stderr",
     "output_type": "stream",
     "text": [
      "\r",
      "[Stage 4344:===============================================>    (181 + 9) / 200]\r",
      "\r",
      "                                                                                \r"
     ]
    }
   ],
   "source": [
    "triangle_count_avg.sort(F.desc(\"avg(count)\")).show(num_communities)"
   ]
  },
  {
   "cell_type": "markdown",
   "id": "cc47ecef",
   "metadata": {},
   "source": [
    "### Is there any strange community?"
   ]
  },
  {
   "cell_type": "code",
   "execution_count": 487,
   "id": "d7e73c7a",
   "metadata": {},
   "outputs": [],
   "source": [
    "posts_community_df = (posts_renamed\n",
    "    .join(connected_components, posts_renamed.post_author == connected_components.author, \"left\")\n",
    " )"
   ]
  },
  {
   "cell_type": "code",
   "execution_count": 488,
   "id": "f86b08dc",
   "metadata": {},
   "outputs": [],
   "source": [
    "from pyspark.sql.types import StringType\n",
    "from pyspark.sql.functions import udf, datediff, to_date, lit, lag, col\n",
    "from pyspark.sql.window import Window\n",
    "\n",
    "convert_date_udf = udf(lambda post_date: post_date.split(\"+\")[0].replace(\"T\",\" \"), StringType())\n",
    "\n",
    "# Convert date to suitable format for pyspark\n",
    "posts_community_df = posts_community_df.withColumn(\"date_published\", convert_date_udf(posts_community_df.date_published))"
   ]
  },
  {
   "cell_type": "code",
   "execution_count": 489,
   "id": "02ae97a2",
   "metadata": {},
   "outputs": [],
   "source": [
    "# Find average number of days between posts"
   ]
  },
  {
   "cell_type": "code",
   "execution_count": 490,
   "id": "cb6e3aaf",
   "metadata": {},
   "outputs": [],
   "source": [
    "posts_community_df = posts_community_df.withColumn(\"post_freq\", datediff(posts_community_df.date_published, lag(posts_community_df.date_published, 1)\n",
    "    .over(Window.partitionBy(\"component\")\n",
    "    .orderBy(\"date_published\"))))"
   ]
  },
  {
   "cell_type": "code",
   "execution_count": 519,
   "id": "0986e1dc",
   "metadata": {},
   "outputs": [],
   "source": [
    "avg_post_freq_days_df = (posts_community_df\n",
    "                         .groupBy(\"component\")\n",
    "                         .agg(F.round(F.avg(\"post_freq\"), 5).alias(\"avg_post_freq_days\"), \n",
    "                              F.count(\"post_id\").alias(\"number_of_posts\"),\n",
    "                              F.countDistinct(\"post_author\").alias(\"number_of_authors\"),\n",
    "                              F.min(\"date_published\").alias(\"first_post_date\"),\n",
    "                              F.max(\"date_published\").alias(\"last_post_date\"),\n",
    "                              datediff(F.max(\"date_published\"),F.min(\"date_published\")).alias(\"days_apart\")\n",
    "                             )\n",
    "                        )\n",
    "avg_post_freq_days_df = avg_post_freq_days_df.na.fill(0)"
   ]
  },
  {
   "cell_type": "code",
   "execution_count": 520,
   "id": "04f338f6",
   "metadata": {
    "scrolled": false
   },
   "outputs": [
    {
     "name": "stderr",
     "output_type": "stream",
     "text": [
      "[Stage 4400:===============================================>    (182 + 8) / 200]\r"
     ]
    },
    {
     "name": "stdout",
     "output_type": "stream",
     "text": [
      "+-------------+------------------+---------------+-----------------+-------------------+-------------------+----------+\n",
      "|    component|avg_post_freq_days|number_of_posts|number_of_authors|    first_post_date|     last_post_date|days_apart|\n",
      "+-------------+------------------+---------------+-----------------+-------------------+-------------------+----------+\n",
      "|1039382085632|            1229.0|              2|                1|2018-02-27 17:59:29|2021-07-10 07:55:06|      1229|\n",
      "| 712964571140|             108.0|              2|                2|2020-05-07 19:00:17|2020-08-23 12:27:47|       108|\n",
      "| 962072674307|              29.0|              2|                2|2015-07-19 20:03:56|2015-08-17 14:47:44|        29|\n",
      "| 154618822660|              22.5|              3|                2|2020-09-24 15:18:15|2020-11-08 10:04:53|        45|\n",
      "|  94489280525|              12.0|              2|                1|2020-08-06 02:19:51|2020-08-18 17:11:06|        12|\n",
      "| 146028888068|               9.0|              5|                3|2019-06-19 10:43:53|2019-07-25 20:44:20|        36|\n",
      "| 678604832775|               9.0|              3|                3|2017-08-16 08:44:54|2017-09-03 14:13:58|        18|\n",
      "| 403726925828|               7.5|              3|                3|2018-03-31 12:47:07|2018-04-15 11:06:12|        15|\n",
      "| 309237645316|               4.5|              3|                3|2017-12-26 21:19:47|2018-01-04 08:49:20|         9|\n",
      "| 489626271744|               3.0|              2|                1|2021-03-01 13:46:41|2021-03-04 14:06:44|         3|\n",
      "| 146028888071|               2.0|              3|                2|2018-04-03 17:15:56|2018-04-07 19:02:22|         4|\n",
      "| 420906795012|               1.0|              2|                2|2019-06-26 10:28:19|2019-06-27 17:05:01|         1|\n",
      "| 214748364803|               1.0|              2|                1|2018-11-04 21:30:53|2018-11-05 07:59:56|         1|\n",
      "|1022202216452|               1.0|              2|                1|2017-11-23 14:51:26|2017-11-24 11:12:13|         1|\n",
      "|            0|           0.03457|         101169|             4548|2012-02-04 18:24:05|2021-09-01 12:13:11|      3497|\n",
      "| 661424963596|               0.0|              1|                1|2020-09-20 08:02:35|2020-09-20 08:02:35|         0|\n",
      "| 377957122049|               0.0|              1|                1|2019-10-05 08:48:58|2019-10-05 08:48:58|         0|\n",
      "| 257698037765|               0.0|              1|                1|2016-09-18 16:16:39|2016-09-18 16:16:39|         0|\n",
      "| 266287972355|               0.0|              1|                1|2019-04-02 16:52:16|2019-04-02 16:52:16|         0|\n",
      "|1443109011462|               0.0|              1|                1|2017-09-13 13:45:48|2017-09-13 13:45:48|         0|\n",
      "| 618475290624|               0.0|              1|                1|2021-04-12 15:33:06|2021-04-12 15:33:06|         0|\n",
      "|1425929142280|               0.0|              1|                1|2019-10-07 21:40:39|2019-10-07 21:40:39|         0|\n",
      "|1228360646658|               0.0|              1|                1|2020-04-24 22:48:38|2020-04-24 22:48:38|         0|\n",
      "|1228360646662|               0.0|              1|                1|2018-09-20 16:18:23|2018-09-20 16:18:23|         0|\n",
      "|1623497637895|               0.0|              1|                1|2019-10-15 15:31:27|2019-10-15 15:31:27|         0|\n",
      "| 798863917060|               0.0|              1|                1|2020-03-08 17:05:30|2020-03-08 17:05:30|         0|\n",
      "|1159641169925|               0.0|              1|                1|2018-06-17 01:01:08|2018-06-17 01:01:08|         0|\n",
      "|1228360646659|               0.0|              1|                1|2020-05-08 15:45:06|2020-05-08 15:45:06|         0|\n",
      "| 472446402577|               0.0|              1|                1|2016-05-18 15:46:43|2016-05-18 15:46:43|         0|\n",
      "|1245540515845|               0.0|              1|                1|2016-08-22 10:40:44|2016-08-22 10:40:44|         0|\n",
      "| 592705486863|               0.0|              1|                1|2020-12-24 12:54:08|2020-12-24 12:54:08|         0|\n",
      "| 910533066762|               0.0|              1|                1|2019-01-07 15:51:02|2019-01-07 15:51:02|         0|\n",
      "| 257698037772|               0.0|              1|                1|2019-03-20 17:31:45|2019-03-20 17:31:45|         0|\n",
      "| 670014898184|               0.0|              1|                1|2016-09-12 13:35:29|2016-09-12 13:35:29|         0|\n",
      "| 816043786253|               0.0|              1|                1|2020-12-27 20:00:02|2020-12-27 20:00:02|         0|\n",
      "| 103079215105|               0.0|              1|                1|2021-01-29 23:26:16|2021-01-29 23:26:16|         0|\n",
      "| 627065225224|               0.0|              1|                1|2017-05-23 12:15:05|2017-05-23 12:15:05|         0|\n",
      "|  77309411331|               0.0|              1|                1|2019-02-14 09:54:58|2019-02-14 09:54:58|         0|\n",
      "| 180388626440|               0.0|              1|                1|2016-08-15 02:01:11|2016-08-15 02:01:11|         0|\n",
      "| 438086664196|               0.0|              1|                1|2019-09-23 23:11:30|2019-09-23 23:11:30|         0|\n",
      "|1116691496969|               0.0|              1|                1|2018-12-15 18:16:19|2018-12-15 18:16:19|         0|\n",
      "|1073741824000|               0.0|              1|                1|2021-08-19 13:17:42|2021-08-19 13:17:42|         0|\n",
      "| 755914244112|               0.0|              1|                1|2016-10-27 12:04:40|2016-10-27 12:04:40|         0|\n",
      "| 429496729603|               0.0|              1|                1|2017-10-28 15:46:36|2017-10-28 15:46:36|         0|\n",
      "|1640677507075|               0.0|              1|                1|2021-03-20 04:16:05|2021-03-20 04:16:05|         0|\n",
      "|1606317768708|               0.0|              1|                1|2017-05-04 11:54:22|2017-05-04 11:54:22|         0|\n",
      "|1039382085635|               0.0|              2|                1|2020-03-31 11:20:36|2020-03-31 11:23:53|         0|\n",
      "| 652835028996|               0.0|              1|                1|2019-05-24 09:39:09|2019-05-24 09:39:09|         0|\n",
      "| 292057776131|               0.0|              1|                1|2020-08-08 16:32:08|2020-08-08 16:32:08|         0|\n",
      "|  85899345936|               0.0|              1|                1|2020-12-30 11:48:22|2020-12-30 11:48:22|         0|\n",
      "| 223338299393|               0.0|              1|                1|2019-09-24 00:54:31|2019-09-24 00:54:31|         0|\n",
      "|1099511627778|               0.0|              1|                1|2018-11-19 01:57:05|2018-11-19 01:57:05|         0|\n",
      "| 292057776133|               0.0|              1|                1|2019-10-20 15:22:56|2019-10-20 15:22:56|         0|\n",
      "|1657857376257|               0.0|              1|                1|2020-05-31 11:24:13|2020-05-31 11:24:13|         0|\n",
      "|1047972020226|               0.0|              1|                1|2018-02-18 19:53:37|2018-02-18 19:53:37|         0|\n",
      "| 687194767364|               0.0|              1|                1|2017-07-04 10:29:27|2017-07-04 10:29:27|         0|\n",
      "| 884763262980|               0.0|              1|                1|2016-04-13 08:55:47|2016-04-13 08:55:47|         0|\n",
      "| 455266533386|               0.0|              1|                1|2016-07-10 17:42:20|2016-07-10 17:42:20|         0|\n",
      "| 661424963588|               0.0|              1|                1|2017-05-28 19:31:08|2017-05-28 19:31:08|         0|\n",
      "| 695784701954|               0.0|              1|                1|2019-04-04 17:03:41|2019-04-04 17:03:41|         0|\n",
      "| 395136991238|               0.0|              1|                1|2016-10-18 00:39:41|2016-10-18 00:39:41|         0|\n",
      "|1279900254211|               0.0|              1|                1|2018-06-11 17:42:26|2018-06-11 17:42:26|         0|\n",
      "| 249108103178|               0.0|              1|                1|2016-04-17 19:53:40|2016-04-17 19:53:40|         0|\n",
      "|1537598291974|               0.0|              1|                1|2016-07-18 12:11:39|2016-07-18 12:11:39|         0|\n",
      "|1348619730951|               0.0|              1|                1|2016-10-08 09:32:29|2016-10-08 09:32:29|         0|\n",
      "|1039382085647|               0.0|              1|                1|2020-09-14 00:35:49|2020-09-14 00:35:49|         0|\n",
      "|1477468749832|               0.0|              1|                1|2016-03-30 23:46:00|2016-03-30 23:46:00|         0|\n",
      "|1228360646660|               0.0|              1|                1|2019-07-24 00:01:23|2019-07-24 00:01:23|         0|\n",
      "|1692217114631|               0.0|              1|                1|2018-05-18 19:22:07|2018-05-18 19:22:07|         0|\n",
      "| 103079215111|               0.0|              2|                2|2019-03-26 17:26:32|2019-03-26 17:42:25|         0|\n",
      "| 721554505728|               0.0|              2|                2|2021-04-21 11:47:00|2021-04-21 11:55:20|         0|\n",
      "|1391569403906|               0.0|              1|                1|2019-11-28 14:04:38|2019-11-28 14:04:38|         0|\n",
      "|1640677507081|               0.0|              1|                1|2017-11-01 09:40:45|2017-11-01 09:40:45|         0|\n",
      "| 764504178692|               0.0|              2|                1|2020-08-14 18:02:32|2020-08-14 20:42:30|         0|\n",
      "|1554778161152|               0.0|              1|                1|2021-06-21 11:45:32|2021-06-21 11:45:32|         0|\n",
      "|  60129542160|               0.0|              1|                1|2019-06-07 12:34:32|2019-06-07 12:34:32|         0|\n",
      "|1125281431557|               0.0|              1|                1|2017-05-16 15:53:49|2017-05-16 15:53:49|         0|\n",
      "| 506806140931|               0.0|              1|                1|2018-08-13 22:50:20|2018-08-13 22:50:20|         0|\n",
      "|1554778161155|               0.0|              1|                1|2020-07-28 11:25:47|2020-07-28 11:25:47|         0|\n",
      "|   8589934594|               0.0|              1|                1|2019-12-15 16:11:01|2019-12-15 16:11:01|         0|\n",
      "| 146028888067|               0.0|              1|                1|2019-10-04 17:13:26|2019-10-04 17:13:26|         0|\n",
      "|1546188226561|               0.0|              1|                1|2021-05-02 09:34:07|2021-05-02 09:34:07|         0|\n",
      "| 532575944707|               0.0|              1|                1|2019-05-20 22:29:57|2019-05-20 22:29:57|         0|\n",
      "| 901943132166|               0.0|              1|                1|2016-04-28 17:57:31|2016-04-28 17:57:31|         0|\n",
      "| 635655159818|               0.0|              1|                1|2016-09-12 14:57:11|2016-09-12 14:57:11|         0|\n",
      "| 111669149701|               0.0|              1|                1|2018-05-03 15:09:55|2018-05-03 15:09:55|         0|\n",
      "|1082331758593|               0.0|              1|                1|2018-08-15 20:08:09|2018-08-15 20:08:09|         0|\n",
      "| 790273982466|               0.0|              1|                1|2019-08-25 14:29:44|2019-08-25 14:29:44|         0|\n",
      "|1529008357383|               0.0|              1|                1|2016-05-11 13:45:40|2016-05-11 13:45:40|         0|\n",
      "|1614907703307|               0.0|              1|                1|2016-05-31 00:19:18|2016-05-31 00:19:18|         0|\n",
      "| 953482739712|               0.0|              2|                1|2021-06-08 20:52:04|2021-06-08 21:23:27|         0|\n",
      "| 274877906948|               0.0|              1|                1|2020-04-12 17:18:14|2020-04-12 17:18:14|         0|\n",
      "| 850403524617|               0.0|              1|                1|2016-05-01 14:40:01|2016-05-01 14:40:01|         0|\n",
      "| 377957122051|               0.0|              1|                1|2018-11-21 23:38:49|2018-11-21 23:38:49|         0|\n",
      "| 901943132170|               0.0|              1|                1|2019-09-10 11:11:18|2019-09-10 11:11:18|         0|\n",
      "|1151051235339|               0.0|              1|                1|2017-10-23 12:39:39|2017-10-23 12:39:39|         0|\n",
      "|1623497637892|               0.0|              1|                1|2019-12-09 01:29:53|2019-12-09 01:29:53|         0|\n",
      "| 936302870535|               0.0|              1|                1|2017-10-03 15:32:27|2017-10-03 15:32:27|         0|\n",
      "|1537598291978|               0.0|              1|                1|2021-01-03 01:00:24|2021-01-03 01:00:24|         0|\n",
      "| 755914244106|               0.0|              1|                1|2016-07-20 17:12:50|2016-07-20 17:12:50|         0|\n",
      "|1245540515842|               0.0|              1|                1|2020-02-10 01:51:16|2020-02-10 01:51:16|         0|\n",
      "|1477468749827|               0.0|              1|                1|2017-12-26 22:35:23|2017-12-26 22:35:23|         0|\n",
      "|1649267441668|               0.0|              1|                1|2017-04-16 22:12:38|2017-04-16 22:12:38|         0|\n",
      "| 884763262976|               0.0|              1|                1|2018-12-29 14:01:24|2018-12-29 14:01:24|         0|\n",
      "|  42949672964|               0.0|              1|                1|2018-02-12 13:32:36|2018-02-12 13:32:36|         0|\n",
      "|1554778161156|               0.0|              1|                1|2018-09-05 12:15:46|2018-09-05 12:15:46|         0|\n",
      "|1211180777479|               0.0|              1|                1|2018-03-05 19:33:41|2018-03-05 19:33:41|         0|\n",
      "| 223338299403|               0.0|              1|                1|2021-01-14 11:19:51|2021-01-14 11:19:51|         0|\n",
      "|1314259992580|               0.0|              1|                1|2017-07-02 20:35:43|2017-07-02 20:35:43|         0|\n",
      "| 120259084307|               0.0|              1|                1|2021-01-04 16:45:51|2021-01-04 16:45:51|         0|\n",
      "|1571958030337|               0.0|              1|                1|2020-04-13 19:56:33|2020-04-13 19:56:33|         0|\n",
      "| 197568495620|               0.0|              1|                1|2018-10-15 14:45:36|2018-10-15 14:45:36|         0|\n",
      "+-------------+------------------+---------------+-----------------+-------------------+-------------------+----------+\n",
      "\n"
     ]
    },
    {
     "name": "stderr",
     "output_type": "stream",
     "text": [
      "\r",
      "                                                                                \r"
     ]
    }
   ],
   "source": [
    "avg_post_freq_days_df.sort(F.desc(\"avg_post_freq_days\")).show(num_communities)"
   ]
  },
  {
   "cell_type": "code",
   "execution_count": null,
   "id": "01b3fc93",
   "metadata": {},
   "outputs": [],
   "source": []
  }
 ],
 "metadata": {
  "kernelspec": {
   "display_name": "Python 3 (ipykernel)",
   "language": "python",
   "name": "python3"
  },
  "language_info": {
   "codemirror_mode": {
    "name": "ipython",
    "version": 3
   },
   "file_extension": ".py",
   "mimetype": "text/x-python",
   "name": "python",
   "nbconvert_exporter": "python",
   "pygments_lexer": "ipython3",
   "version": "3.8.5"
  }
 },
 "nbformat": 4,
 "nbformat_minor": 5
}
